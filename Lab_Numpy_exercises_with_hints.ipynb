{
 "cells": [
  {
   "cell_type": "markdown",
   "id": "cb35eaf1",
   "metadata": {},
   "source": [
    "# numpy exercises\n",
    "\n",
    "This is a collection of exercises that have been collected in the numpy mailing list, on stack overflow\n",
    "and in the numpy documentation. The goal of this collection is to offer a quick reference for both old\n",
    "and new users but also to provide a set of exercises for those who teach.\n"
   ]
  },
  {
   "cell_type": "markdown",
   "id": "1e7e5cc6",
   "metadata": {},
   "source": [
    "If you find an error or think you've a better way to solve some of them, feel\n",
    "free to open an issue at <https://github.com/rougier/numpy-100>.\n",
    "File automatically generated. See the documentation to update questions/answers/hints programmatically.\n"
   ]
  },
  {
   "cell_type": "markdown",
   "id": "125abc76",
   "metadata": {},
   "source": [
    "#### 1. Import the numpy package under the name `np` (★☆☆)\n",
    "`hint: import … as`"
   ]
  },
  {
   "cell_type": "code",
   "execution_count": 3,
   "id": "82a217a6",
   "metadata": {},
   "outputs": [],
   "source": [
    "import numpy as np"
   ]
  },
  {
   "cell_type": "markdown",
   "id": "d58b290b",
   "metadata": {},
   "source": [
    "#### 2. Create a null vector of size 10 (★☆☆)\n",
    "`hint: np.zeros`"
   ]
  },
  {
   "cell_type": "code",
   "execution_count": 4,
   "id": "1d7bbc59",
   "metadata": {},
   "outputs": [],
   "source": [
    "v = np.array([1,2,3,4,5,6,7,8,9,10])"
   ]
  },
  {
   "cell_type": "code",
   "execution_count": 5,
   "id": "3b72b5c5",
   "metadata": {},
   "outputs": [
    {
     "data": {
      "text/plain": [
       "10"
      ]
     },
     "execution_count": 5,
     "metadata": {},
     "output_type": "execute_result"
    }
   ],
   "source": [
    "v.size"
   ]
  },
  {
   "cell_type": "code",
   "execution_count": 6,
   "id": "d5a8f4f4",
   "metadata": {},
   "outputs": [
    {
     "data": {
      "text/plain": [
       "(10,)"
      ]
     },
     "execution_count": 6,
     "metadata": {},
     "output_type": "execute_result"
    }
   ],
   "source": [
    "v.shape"
   ]
  },
  {
   "cell_type": "markdown",
   "id": "0a50a4c8",
   "metadata": {},
   "source": [
    "#### 3. Create a null vector of size 10 but the fifth value which is 1 (★☆☆)\n",
    "`hint: array[4]`"
   ]
  },
  {
   "cell_type": "code",
   "execution_count": 7,
   "id": "f8a6dc20",
   "metadata": {},
   "outputs": [],
   "source": [
    "n = np.array([5,2,3,4,1,6,7,8,9,10])"
   ]
  },
  {
   "cell_type": "code",
   "execution_count": 8,
   "id": "4f5b55cc",
   "metadata": {},
   "outputs": [
    {
     "data": {
      "text/plain": [
       "1"
      ]
     },
     "execution_count": 8,
     "metadata": {},
     "output_type": "execute_result"
    }
   ],
   "source": [
    "n[4]"
   ]
  },
  {
   "cell_type": "markdown",
   "id": "55e3e81d",
   "metadata": {},
   "source": [
    "#### 4. Create a vector with values ranging from 10 to 49 (★☆☆)\n",
    "`hint: arange`"
   ]
  },
  {
   "cell_type": "code",
   "execution_count": 9,
   "id": "cd22baf7",
   "metadata": {},
   "outputs": [
    {
     "data": {
      "text/plain": [
       "array([10, 11, 12, 13, 14, 15, 16, 17, 18, 19, 20, 21, 22, 23, 24, 25, 26,\n",
       "       27, 28, 29, 30, 31, 32, 33, 34, 35, 36, 37, 38, 39, 40, 41, 42, 43,\n",
       "       44, 45, 46, 47, 48, 49])"
      ]
     },
     "execution_count": 9,
     "metadata": {},
     "output_type": "execute_result"
    }
   ],
   "source": [
    "np.arange(10, 50)"
   ]
  },
  {
   "cell_type": "markdown",
   "id": "793f3ef7",
   "metadata": {},
   "source": [
    "#### 5. Create a 3x3 matrix with values ranging from 0 to 8 (★☆☆)\n",
    "`hint: reshape`"
   ]
  },
  {
   "cell_type": "code",
   "execution_count": 10,
   "id": "e5b37962",
   "metadata": {},
   "outputs": [
    {
     "name": "stdout",
     "output_type": "stream",
     "text": [
      "[[0 1 2]\n",
      " [3 4 5]\n",
      " [6 7 8]]\n"
     ]
    }
   ],
   "source": [
    "matrix = np.arange(0, 9).reshape((3, 3))\n",
    "print(matrix)"
   ]
  },
  {
   "cell_type": "markdown",
   "id": "bad4f45f",
   "metadata": {},
   "source": [
    "#### 6. Find indices of non-zero elements from [1,2,0,0,4,0] (★☆☆)\n",
    "`hint: np.nonzero`"
   ]
  },
  {
   "cell_type": "code",
   "execution_count": 11,
   "id": "d8c82d9e",
   "metadata": {},
   "outputs": [],
   "source": [
    "nonzero_list = [1,2,0,0,4,0]"
   ]
  },
  {
   "cell_type": "code",
   "execution_count": 12,
   "id": "392701f5",
   "metadata": {},
   "outputs": [
    {
     "data": {
      "text/plain": [
       "(array([0, 1, 4]),)"
      ]
     },
     "execution_count": 12,
     "metadata": {},
     "output_type": "execute_result"
    }
   ],
   "source": [
    "np.nonzero(nonzero_list)"
   ]
  },
  {
   "cell_type": "markdown",
   "id": "ac0dd39f",
   "metadata": {},
   "source": [
    "#### 7. Create a 3x3 identity matrix (★☆☆)\n",
    "`hint: np.eye`"
   ]
  },
  {
   "cell_type": "code",
   "execution_count": 13,
   "id": "1ee398c0",
   "metadata": {},
   "outputs": [
    {
     "data": {
      "text/plain": [
       "array([[1., 0., 0.],\n",
       "       [0., 1., 0.],\n",
       "       [0., 0., 1.]])"
      ]
     },
     "execution_count": 13,
     "metadata": {},
     "output_type": "execute_result"
    }
   ],
   "source": [
    "np.eye(3, 3)"
   ]
  },
  {
   "cell_type": "markdown",
   "id": "187b5b32",
   "metadata": {},
   "source": [
    "#### 8. Create a 3x3x3 array with random values (★☆☆)\n",
    "`hint: np.random.random`"
   ]
  },
  {
   "cell_type": "code",
   "execution_count": 14,
   "id": "d79acbe5",
   "metadata": {},
   "outputs": [
    {
     "data": {
      "text/plain": [
       "array([[[0.92617906, 0.83190229, 0.06099687],\n",
       "        [0.81248956, 0.93281051, 0.5909247 ],\n",
       "        [0.24737969, 0.41363182, 0.35095441]],\n",
       "\n",
       "       [[0.60556042, 0.92533847, 0.78709705],\n",
       "        [0.65638118, 0.88049408, 0.51677094],\n",
       "        [0.40410037, 0.29498082, 0.61753416]],\n",
       "\n",
       "       [[0.48033008, 0.96791346, 0.2415373 ],\n",
       "        [0.84693601, 0.88093968, 0.12351219],\n",
       "        [0.32940991, 0.1583394 , 0.50730878]]])"
      ]
     },
     "execution_count": 14,
     "metadata": {},
     "output_type": "execute_result"
    }
   ],
   "source": [
    "np.random.random((3, 3, 3))"
   ]
  },
  {
   "cell_type": "markdown",
   "id": "027f94b0",
   "metadata": {},
   "source": [
    "#### 9. Create a 10x10 array with random values and find the minimum and maximum values (★☆☆)\n",
    "`hint: min, max`"
   ]
  },
  {
   "cell_type": "code",
   "execution_count": 15,
   "id": "2375052c",
   "metadata": {},
   "outputs": [
    {
     "name": "stdout",
     "output_type": "stream",
     "text": [
      "[[0.25046002 0.66403863 0.22080886 0.35785121 0.918353   0.12084824\n",
      "  0.74750643 0.81245992 0.2150498  0.44109435]\n",
      " [0.86755711 0.67876041 0.8948609  0.81882653 0.08812471 0.17697179\n",
      "  0.48409905 0.99606333 0.16782982 0.87156206]\n",
      " [0.67210946 0.8711753  0.38773079 0.43518971 0.63876229 0.02566377\n",
      "  0.25942805 0.46626504 0.98441858 0.89939178]\n",
      " [0.13172396 0.68033105 0.92913044 0.11988846 0.05332223 0.98644727\n",
      "  0.69528771 0.33441042 0.78830968 0.93137676]\n",
      " [0.60554005 0.70195827 0.46860473 0.60921011 0.51812479 0.52870227\n",
      "  0.62620225 0.61944567 0.54575156 0.23947315]\n",
      " [0.5499175  0.02916237 0.3845172  0.55163615 0.83682798 0.59992578\n",
      "  0.06833822 0.48350378 0.36394686 0.89948768]\n",
      " [0.67178828 0.89992666 0.26923236 0.53410884 0.27515289 0.34530518\n",
      "  0.69809142 0.67309643 0.32058232 0.04780022]\n",
      " [0.79458855 0.40144866 0.26475244 0.34264988 0.38275416 0.70562291\n",
      "  0.71830725 0.86197202 0.3339789  0.88929201]\n",
      " [0.31230547 0.12451304 0.16811181 0.06011915 0.30252798 0.52969014\n",
      "  0.3534574  0.16880366 0.25470001 0.29468458]\n",
      " [0.91020166 0.28012997 0.52794774 0.93786426 0.37291196 0.39001911\n",
      "  0.66735135 0.47276694 0.7747481  0.49193907]]\n"
     ]
    }
   ],
   "source": [
    "array = np.random.random((10, 10)).reshape((10, 10))\n",
    "print(array)"
   ]
  },
  {
   "cell_type": "markdown",
   "id": "e8934d2a",
   "metadata": {},
   "source": [
    "#### 10. Create a random vector of size 30 and find the mean value (★☆☆)\n",
    "`hint: mean`"
   ]
  },
  {
   "cell_type": "code",
   "execution_count": 16,
   "id": "590f7c79",
   "metadata": {},
   "outputs": [],
   "source": [
    "rv = np.random.random((30))"
   ]
  },
  {
   "cell_type": "code",
   "execution_count": 17,
   "id": "1f3d038d",
   "metadata": {},
   "outputs": [
    {
     "data": {
      "text/plain": [
       "0.5922309655687052"
      ]
     },
     "execution_count": 17,
     "metadata": {},
     "output_type": "execute_result"
    }
   ],
   "source": [
    "np.mean(rv)"
   ]
  },
  {
   "cell_type": "markdown",
   "id": "bb2b2757",
   "metadata": {},
   "source": [
    "#### 11. Create a 5x5 matrix with values 1,2,3,4 just below the diagonal (★☆☆)\n",
    "`hint: np.diag`"
   ]
  },
  {
   "cell_type": "code",
   "execution_count": 18,
   "id": "d4c779f3",
   "metadata": {},
   "outputs": [],
   "source": [
    "diagonal = np.zeros((5,5))"
   ]
  },
  {
   "cell_type": "code",
   "execution_count": 19,
   "id": "0c5de4ca",
   "metadata": {},
   "outputs": [
    {
     "data": {
      "text/plain": [
       "array([[0., 0., 0., 0., 0.],\n",
       "       [0., 0., 0., 0., 0.],\n",
       "       [0., 0., 0., 0., 0.],\n",
       "       [0., 0., 0., 0., 0.],\n",
       "       [0., 0., 0., 0., 0.]])"
      ]
     },
     "execution_count": 19,
     "metadata": {},
     "output_type": "execute_result"
    }
   ],
   "source": [
    "diagonal"
   ]
  },
  {
   "cell_type": "code",
   "execution_count": 20,
   "id": "d89f5e9c",
   "metadata": {},
   "outputs": [],
   "source": [
    "diagonal += np.arange(5)"
   ]
  },
  {
   "cell_type": "code",
   "execution_count": 21,
   "id": "9b7dab3a",
   "metadata": {},
   "outputs": [
    {
     "data": {
      "text/plain": [
       "array([[0., 1., 2., 3., 4.],\n",
       "       [0., 1., 2., 3., 4.],\n",
       "       [0., 1., 2., 3., 4.],\n",
       "       [0., 1., 2., 3., 4.],\n",
       "       [0., 1., 2., 3., 4.]])"
      ]
     },
     "execution_count": 21,
     "metadata": {},
     "output_type": "execute_result"
    }
   ],
   "source": [
    "diagonal"
   ]
  },
  {
   "cell_type": "code",
   "execution_count": 22,
   "id": "5f0585ef",
   "metadata": {},
   "outputs": [
    {
     "data": {
      "text/plain": [
       "array([0., 1., 2., 3.])"
      ]
     },
     "execution_count": 22,
     "metadata": {},
     "output_type": "execute_result"
    }
   ],
   "source": [
    "np.diag(diagonal, k = -1)"
   ]
  },
  {
   "cell_type": "code",
   "execution_count": 23,
   "id": "90d680d1",
   "metadata": {},
   "outputs": [],
   "source": [
    "#array needs to start with \"1\" instead of \"0\""
   ]
  },
  {
   "cell_type": "markdown",
   "id": "18083518",
   "metadata": {},
   "source": [
    "#### 12. Normalize a 5x5 random matrix (★☆☆)\n",
    "`hint: (x -mean)/std`"
   ]
  },
  {
   "cell_type": "code",
   "execution_count": 24,
   "id": "c92a84cd",
   "metadata": {},
   "outputs": [],
   "source": [
    "rand = np.random.random((5,5))"
   ]
  },
  {
   "cell_type": "code",
   "execution_count": 25,
   "id": "721c44d8",
   "metadata": {},
   "outputs": [
    {
     "data": {
      "text/plain": [
       "array([[-1.12936888, -0.89179129,  1.21364343,  1.33459514,  1.06201032],\n",
       "       [ 1.482935  ,  1.43643618,  0.63095285,  1.35017544,  0.67966631],\n",
       "       [-0.54348815, -0.2555634 , -0.81364456,  0.08138677, -1.29796656],\n",
       "       [-0.78524359, -0.71202377, -1.41154045,  0.79386107, -0.33664857],\n",
       "       [-0.66278667, -1.14274149, -0.40705645,  1.40000305, -1.07580174]])"
      ]
     },
     "execution_count": 25,
     "metadata": {},
     "output_type": "execute_result"
    }
   ],
   "source": [
    "(rand - np.mean(rand))/np.std(rand)"
   ]
  },
  {
   "cell_type": "markdown",
   "id": "58497099",
   "metadata": {},
   "source": [
    "#### 13. How to find common values between two arrays? (★☆☆)\n",
    "`hint: np.intersect1d`"
   ]
  },
  {
   "cell_type": "code",
   "execution_count": 26,
   "id": "ca8ec929",
   "metadata": {},
   "outputs": [
    {
     "data": {
      "text/plain": [
       "array([1, 2, 3])"
      ]
     },
     "execution_count": 26,
     "metadata": {},
     "output_type": "execute_result"
    }
   ],
   "source": [
    "np.intersect1d([1, 2, 3, 4], [0, 1, 2, 3])"
   ]
  },
  {
   "cell_type": "markdown",
   "id": "c4ff5c91",
   "metadata": {},
   "source": [
    "#### 14. Create a random vector of size 10 and sort it (★★☆)\n",
    "`hint: sort`"
   ]
  },
  {
   "cell_type": "code",
   "execution_count": 27,
   "id": "42775850",
   "metadata": {},
   "outputs": [],
   "source": [
    "rv_s = np.sort(np.random.random((10)))"
   ]
  },
  {
   "cell_type": "code",
   "execution_count": 28,
   "id": "bdbeb13a",
   "metadata": {},
   "outputs": [
    {
     "data": {
      "text/plain": [
       "array([0.1261708 , 0.19926144, 0.32160049, 0.37652758, 0.46976874,\n",
       "       0.46994638, 0.60065585, 0.63633262, 0.64307449, 0.90511748])"
      ]
     },
     "execution_count": 28,
     "metadata": {},
     "output_type": "execute_result"
    }
   ],
   "source": [
    "rv_s"
   ]
  },
  {
   "cell_type": "markdown",
   "id": "7e181ed5",
   "metadata": {},
   "source": [
    "#### 15. Create random vector of size 10 and replace the maximum value by 0 (★★☆)\n",
    "`hint: argmax`"
   ]
  },
  {
   "cell_type": "code",
   "execution_count": 29,
   "id": "fb3b2786",
   "metadata": {},
   "outputs": [],
   "source": [
    "rv_max = np.random.random((10))"
   ]
  },
  {
   "cell_type": "code",
   "execution_count": 39,
   "id": "c2e14baa",
   "metadata": {},
   "outputs": [
    {
     "data": {
      "text/plain": [
       "array([0.21079518, 0.59086436, 0.43254626, 0.47146309, 0.        ,\n",
       "       0.08660176, 0.1501903 , 0.06439737, 0.02568697, 0.10689971])"
      ]
     },
     "execution_count": 39,
     "metadata": {},
     "output_type": "execute_result"
    }
   ],
   "source": [
    "rv_max"
   ]
  },
  {
   "cell_type": "code",
   "execution_count": 40,
   "id": "f4a8b2bd",
   "metadata": {},
   "outputs": [
    {
     "data": {
      "text/plain": [
       "0.5908643641076861"
      ]
     },
     "execution_count": 40,
     "metadata": {},
     "output_type": "execute_result"
    }
   ],
   "source": [
    "# argmax returns index of biggest number \n",
    "\n",
    "rv_max[np.argmax(rv_max)]"
   ]
  },
  {
   "cell_type": "code",
   "execution_count": 41,
   "id": "6f1d646f",
   "metadata": {},
   "outputs": [],
   "source": [
    "rv_max[np.argmax(rv_max)] = 0"
   ]
  },
  {
   "cell_type": "code",
   "execution_count": null,
   "id": "0412e5e8",
   "metadata": {},
   "outputs": [],
   "source": []
  },
  {
   "cell_type": "markdown",
   "id": "9105c44c",
   "metadata": {},
   "source": [
    "#### 16. Subtract the mean of each row of a matrix (★★☆)\n",
    "`hint: mean(axis=,keepdims=)`"
   ]
  },
  {
   "cell_type": "code",
   "execution_count": null,
   "id": "833ac195",
   "metadata": {},
   "outputs": [],
   "source": [
    "matrix = np.arange(0, 9).reshape((3, 3))\n",
    "\n",
    "matrix - np.mean(matrix, axis=1)"
   ]
  },
  {
   "cell_type": "markdown",
   "id": "c6ab3c4a",
   "metadata": {},
   "source": [
    "#### 17. How to get the n largest values of an array (★★★)\n",
    "`Z = np.arange(10000)\n",
    "np.random.shuffle(Z)\n",
    "n = 5\n",
    "hint: np.argsort | np.argpartition`"
   ]
  },
  {
   "cell_type": "code",
   "execution_count": null,
   "id": "0e8513e1",
   "metadata": {},
   "outputs": [],
   "source": [
    "Z = np.arange(10000)\n",
    "np.random.shuffle(Z)\n",
    "n = 5"
   ]
  },
  {
   "cell_type": "code",
   "execution_count": null,
   "id": "21cb3657",
   "metadata": {},
   "outputs": [],
   "source": [
    "np.argsort(Z)"
   ]
  },
  {
   "cell_type": "code",
   "execution_count": null,
   "id": "5b0a8987",
   "metadata": {},
   "outputs": [],
   "source": [
    "np.argpartition(Z, 5)"
   ]
  },
  {
   "cell_type": "markdown",
   "id": "58ff2f85",
   "metadata": {},
   "source": [
    "#### 18. Create a random 5*3 matrix and replace items that are larger than 4 by their squares ( Example:  6 --> 36) \n",
    "`hint: np.where"
   ]
  },
  {
   "cell_type": "code",
   "execution_count": null,
   "id": "23ec6e15",
   "metadata": {},
   "outputs": [],
   "source": [
    "matrix = np.arange(15).reshape((5, 3))"
   ]
  },
  {
   "cell_type": "code",
   "execution_count": null,
   "id": "7b66f836",
   "metadata": {},
   "outputs": [],
   "source": [
    "matrix"
   ]
  },
  {
   "cell_type": "code",
   "execution_count": null,
   "id": "dd627918",
   "metadata": {},
   "outputs": [],
   "source": [
    "np.where(matrix > 4, matrix, matrix**2)"
   ]
  },
  {
   "cell_type": "code",
   "execution_count": null,
   "id": "b48122ec",
   "metadata": {},
   "outputs": [],
   "source": []
  }
 ],
 "metadata": {
  "kernelspec": {
   "display_name": "Python 3 (ipykernel)",
   "language": "python",
   "name": "python3"
  },
  "language_info": {
   "codemirror_mode": {
    "name": "ipython",
    "version": 3
   },
   "file_extension": ".py",
   "mimetype": "text/x-python",
   "name": "python",
   "nbconvert_exporter": "python",
   "pygments_lexer": "ipython3",
   "version": "3.9.12"
  }
 },
 "nbformat": 4,
 "nbformat_minor": 5
}
