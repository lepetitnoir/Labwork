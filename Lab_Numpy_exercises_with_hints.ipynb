{
 "cells": [
  {
   "cell_type": "markdown",
   "id": "cb35eaf1",
   "metadata": {},
   "source": [
    "# numpy exercises\n",
    "\n",
    "This is a collection of exercises that have been collected in the numpy mailing list, on stack overflow\n",
    "and in the numpy documentation. The goal of this collection is to offer a quick reference for both old\n",
    "and new users but also to provide a set of exercises for those who teach.\n"
   ]
  },
  {
   "cell_type": "markdown",
   "id": "1e7e5cc6",
   "metadata": {},
   "source": [
    "If you find an error or think you've a better way to solve some of them, feel\n",
    "free to open an issue at <https://github.com/rougier/numpy-100>.\n",
    "File automatically generated. See the documentation to update questions/answers/hints programmatically.\n"
   ]
  },
  {
   "cell_type": "markdown",
   "id": "125abc76",
   "metadata": {},
   "source": [
    "#### 1. Import the numpy package under the name `np` (★☆☆)\n",
    "`hint: import … as`"
   ]
  },
  {
   "cell_type": "code",
   "execution_count": 1,
   "id": "82a217a6",
   "metadata": {},
   "outputs": [],
   "source": [
    "import numpy as np"
   ]
  },
  {
   "cell_type": "markdown",
   "id": "d58b290b",
   "metadata": {},
   "source": [
    "#### 2. Create a null vector of size 10 (★☆☆)\n",
    "`hint: np.zeros`"
   ]
  },
  {
   "cell_type": "code",
   "execution_count": 5,
   "id": "1d7bbc59",
   "metadata": {},
   "outputs": [],
   "source": [
    "v = np.array([1,2,3,4,5,6,7,8,9,10])"
   ]
  },
  {
   "cell_type": "code",
   "execution_count": 6,
   "id": "3b72b5c5",
   "metadata": {},
   "outputs": [
    {
     "data": {
      "text/plain": [
       "10"
      ]
     },
     "execution_count": 6,
     "metadata": {},
     "output_type": "execute_result"
    }
   ],
   "source": [
    "v.size"
   ]
  },
  {
   "cell_type": "code",
   "execution_count": 7,
   "id": "d5a8f4f4",
   "metadata": {},
   "outputs": [
    {
     "data": {
      "text/plain": [
       "(10,)"
      ]
     },
     "execution_count": 7,
     "metadata": {},
     "output_type": "execute_result"
    }
   ],
   "source": [
    "v.shape"
   ]
  },
  {
   "cell_type": "markdown",
   "id": "0a50a4c8",
   "metadata": {},
   "source": [
    "#### 3. Create a null vector of size 10 but the fifth value which is 1 (★☆☆)\n",
    "`hint: array[4]`"
   ]
  },
  {
   "cell_type": "code",
   "execution_count": 8,
   "id": "f8a6dc20",
   "metadata": {},
   "outputs": [],
   "source": [
    "n = np.array([5,2,3,4,1,6,7,8,9,10])"
   ]
  },
  {
   "cell_type": "code",
   "execution_count": 9,
   "id": "4f5b55cc",
   "metadata": {},
   "outputs": [
    {
     "data": {
      "text/plain": [
       "1"
      ]
     },
     "execution_count": 9,
     "metadata": {},
     "output_type": "execute_result"
    }
   ],
   "source": [
    "n[4]"
   ]
  },
  {
   "cell_type": "markdown",
   "id": "55e3e81d",
   "metadata": {},
   "source": [
    "#### 4. Create a vector with values ranging from 10 to 49 (★☆☆)\n",
    "`hint: arange`"
   ]
  },
  {
   "cell_type": "code",
   "execution_count": 11,
   "id": "cd22baf7",
   "metadata": {},
   "outputs": [
    {
     "data": {
      "text/plain": [
       "array([10, 11, 12, 13, 14, 15, 16, 17, 18, 19, 20, 21, 22, 23, 24, 25, 26,\n",
       "       27, 28, 29, 30, 31, 32, 33, 34, 35, 36, 37, 38, 39, 40, 41, 42, 43,\n",
       "       44, 45, 46, 47, 48, 49])"
      ]
     },
     "execution_count": 11,
     "metadata": {},
     "output_type": "execute_result"
    }
   ],
   "source": [
    "np.arange(10, 50)"
   ]
  },
  {
   "cell_type": "markdown",
   "id": "793f3ef7",
   "metadata": {},
   "source": [
    "#### 5. Create a 3x3 matrix with values ranging from 0 to 8 (★☆☆)\n",
    "`hint: reshape`"
   ]
  },
  {
   "cell_type": "code",
   "execution_count": 12,
   "id": "e5b37962",
   "metadata": {},
   "outputs": [
    {
     "name": "stdout",
     "output_type": "stream",
     "text": [
      "[[0 1 2]\n",
      " [3 4 5]\n",
      " [6 7 8]]\n"
     ]
    }
   ],
   "source": [
    "matrix = np.arange(0, 9).reshape((3, 3))\n",
    "print(matrix)"
   ]
  },
  {
   "cell_type": "markdown",
   "id": "bad4f45f",
   "metadata": {},
   "source": [
    "#### 6. Find indices of non-zero elements from [1,2,0,0,4,0] (★☆☆)\n",
    "`hint: np.nonzero`"
   ]
  },
  {
   "cell_type": "code",
   "execution_count": 14,
   "id": "d8c82d9e",
   "metadata": {},
   "outputs": [],
   "source": [
    "nonzero_list = [1,2,0,0,4,0]"
   ]
  },
  {
   "cell_type": "code",
   "execution_count": 15,
   "id": "392701f5",
   "metadata": {},
   "outputs": [
    {
     "data": {
      "text/plain": [
       "(array([0, 1, 4]),)"
      ]
     },
     "execution_count": 15,
     "metadata": {},
     "output_type": "execute_result"
    }
   ],
   "source": [
    "np.nonzero(nonzero_list)"
   ]
  },
  {
   "cell_type": "markdown",
   "id": "ac0dd39f",
   "metadata": {},
   "source": [
    "#### 7. Create a 3x3 identity matrix (★☆☆)\n",
    "`hint: np.eye`"
   ]
  },
  {
   "cell_type": "code",
   "execution_count": 18,
   "id": "1ee398c0",
   "metadata": {},
   "outputs": [
    {
     "data": {
      "text/plain": [
       "array([[1., 0., 0.],\n",
       "       [0., 1., 0.],\n",
       "       [0., 0., 1.]])"
      ]
     },
     "execution_count": 18,
     "metadata": {},
     "output_type": "execute_result"
    }
   ],
   "source": [
    "np.eye(3, 3)"
   ]
  },
  {
   "cell_type": "markdown",
   "id": "187b5b32",
   "metadata": {},
   "source": [
    "#### 8. Create a 3x3x3 array with random values (★☆☆)\n",
    "`hint: np.random.random`"
   ]
  },
  {
   "cell_type": "code",
   "execution_count": 20,
   "id": "d79acbe5",
   "metadata": {},
   "outputs": [
    {
     "data": {
      "text/plain": [
       "array([[[0.35577181, 0.46298335, 0.17832875],\n",
       "        [0.36501087, 0.81312433, 0.66583356],\n",
       "        [0.13372639, 0.35137434, 0.38752689]],\n",
       "\n",
       "       [[0.83067119, 0.69021684, 0.44613838],\n",
       "        [0.22572101, 0.46918091, 0.58355409],\n",
       "        [0.75294247, 0.55401602, 0.55876967]],\n",
       "\n",
       "       [[0.08248484, 0.77510445, 0.41076417],\n",
       "        [0.33655333, 0.19033061, 0.95966343],\n",
       "        [0.09805218, 0.26171152, 0.87184274]]])"
      ]
     },
     "execution_count": 20,
     "metadata": {},
     "output_type": "execute_result"
    }
   ],
   "source": [
    "np.random.random((3, 3, 3))"
   ]
  },
  {
   "cell_type": "markdown",
   "id": "027f94b0",
   "metadata": {},
   "source": [
    "#### 9. Create a 10x10 array with random values and find the minimum and maximum values (★☆☆)\n",
    "`hint: min, max`"
   ]
  },
  {
   "cell_type": "code",
   "execution_count": 25,
   "id": "2375052c",
   "metadata": {},
   "outputs": [
    {
     "name": "stdout",
     "output_type": "stream",
     "text": [
      "[[0.16966629 0.9325377  0.50540955 0.85500486 0.55143878 0.8747343\n",
      "  0.09046383 0.93755787 0.43238846 0.93984926]\n",
      " [0.0538998  0.71838799 0.4564939  0.97370501 0.45149685 0.06076588\n",
      "  0.65435743 0.282644   0.6614273  0.99343755]\n",
      " [0.55804733 0.82222225 0.0694091  0.26832777 0.17344743 0.72051641\n",
      "  0.47970673 0.75602566 0.88031613 0.20844699]\n",
      " [0.3829432  0.84438419 0.90744512 0.68237697 0.23358727 0.4646651\n",
      "  0.41287246 0.70189589 0.37368939 0.08014176]\n",
      " [0.5441341  0.54915246 0.82504399 0.2874267  0.24591557 0.66029958\n",
      "  0.72918588 0.75024709 0.59453785 0.91538555]\n",
      " [0.93962643 0.85416687 0.28480458 0.27439002 0.40927065 0.8917166\n",
      "  0.08732323 0.72625066 0.3950441  0.62260603]\n",
      " [0.10974007 0.55084902 0.52154578 0.51830841 0.38338271 0.57693084\n",
      "  0.34477443 0.54067996 0.92998356 0.25740313]\n",
      " [0.53646719 0.34447533 0.09791409 0.96986025 0.01323398 0.55285508\n",
      "  0.47122179 0.65633142 0.20439413 0.44259502]\n",
      " [0.20697688 0.32964923 0.43440747 0.05241075 0.67773078 0.22902603\n",
      "  0.99626715 0.89517324 0.30331335 0.6873939 ]\n",
      " [0.68859718 0.60866158 0.00501275 0.61685479 0.7660485  0.96013818\n",
      "  0.86845613 0.97408477 0.93474414 0.9125828 ]]\n"
     ]
    }
   ],
   "source": [
    "array = np.random.random((10, 10)).reshape((10, 10))\n",
    "print(array)"
   ]
  },
  {
   "cell_type": "markdown",
   "id": "e8934d2a",
   "metadata": {},
   "source": [
    "#### 10. Create a random vector of size 30 and find the mean value (★☆☆)\n",
    "`hint: mean`"
   ]
  },
  {
   "cell_type": "code",
   "execution_count": 26,
   "id": "590f7c79",
   "metadata": {},
   "outputs": [],
   "source": [
    "rv = np.random.random((30))"
   ]
  },
  {
   "cell_type": "code",
   "execution_count": 30,
   "id": "1f3d038d",
   "metadata": {},
   "outputs": [
    {
     "data": {
      "text/plain": [
       "0.4186120290896647"
      ]
     },
     "execution_count": 30,
     "metadata": {},
     "output_type": "execute_result"
    }
   ],
   "source": [
    "np.mean(rv)"
   ]
  },
  {
   "cell_type": "markdown",
   "id": "bb2b2757",
   "metadata": {},
   "source": [
    "#### 11. Create a 5x5 matrix with values 1,2,3,4 just below the diagonal (★☆☆)\n",
    "`hint: np.diag`"
   ]
  },
  {
   "cell_type": "code",
   "execution_count": 95,
   "id": "d4c779f3",
   "metadata": {},
   "outputs": [],
   "source": [
    "diagonal = np.zeros((5,5))"
   ]
  },
  {
   "cell_type": "code",
   "execution_count": 96,
   "id": "0c5de4ca",
   "metadata": {},
   "outputs": [
    {
     "data": {
      "text/plain": [
       "array([[0., 0., 0., 0., 0.],\n",
       "       [0., 0., 0., 0., 0.],\n",
       "       [0., 0., 0., 0., 0.],\n",
       "       [0., 0., 0., 0., 0.],\n",
       "       [0., 0., 0., 0., 0.]])"
      ]
     },
     "execution_count": 96,
     "metadata": {},
     "output_type": "execute_result"
    }
   ],
   "source": [
    "diagonal"
   ]
  },
  {
   "cell_type": "code",
   "execution_count": 97,
   "id": "d89f5e9c",
   "metadata": {},
   "outputs": [],
   "source": [
    "diagonal += np.arange(5)"
   ]
  },
  {
   "cell_type": "code",
   "execution_count": 98,
   "id": "9b7dab3a",
   "metadata": {},
   "outputs": [
    {
     "data": {
      "text/plain": [
       "array([[0., 1., 2., 3., 4.],\n",
       "       [0., 1., 2., 3., 4.],\n",
       "       [0., 1., 2., 3., 4.],\n",
       "       [0., 1., 2., 3., 4.],\n",
       "       [0., 1., 2., 3., 4.]])"
      ]
     },
     "execution_count": 98,
     "metadata": {},
     "output_type": "execute_result"
    }
   ],
   "source": [
    "diagonal"
   ]
  },
  {
   "cell_type": "code",
   "execution_count": 99,
   "id": "5f0585ef",
   "metadata": {},
   "outputs": [
    {
     "data": {
      "text/plain": [
       "array([0., 1., 2., 3.])"
      ]
     },
     "execution_count": 99,
     "metadata": {},
     "output_type": "execute_result"
    }
   ],
   "source": [
    "np.diag(diagonal, k = -1)"
   ]
  },
  {
   "cell_type": "code",
   "execution_count": null,
   "id": "90d680d1",
   "metadata": {},
   "outputs": [],
   "source": [
    "#array needs to start with \"1\" instead of \"0\""
   ]
  },
  {
   "cell_type": "markdown",
   "id": "18083518",
   "metadata": {},
   "source": [
    "#### 12. Normalize a 5x5 random matrix (★☆☆)\n",
    "`hint: (x -mean)/std`"
   ]
  },
  {
   "cell_type": "code",
   "execution_count": 107,
   "id": "c92a84cd",
   "metadata": {},
   "outputs": [],
   "source": [
    "rand = np.random.random((5,5))"
   ]
  },
  {
   "cell_type": "code",
   "execution_count": 108,
   "id": "721c44d8",
   "metadata": {},
   "outputs": [
    {
     "data": {
      "text/plain": [
       "array([[ 1.14731143, -1.55403321, -1.14120851,  0.31492517,  1.72963393],\n",
       "       [ 0.64073923, -0.36751132, -1.15578795, -0.27322325, -1.84188302],\n",
       "       [ 0.28522449,  0.89456783, -1.53861239,  1.23688996,  0.66927799],\n",
       "       [ 0.27382345,  0.89174555,  0.74430517, -0.39931871, -0.09400646],\n",
       "       [ 1.3306771 , -0.77193268, -1.44239272,  0.50365465, -0.08286572]])"
      ]
     },
     "execution_count": 108,
     "metadata": {},
     "output_type": "execute_result"
    }
   ],
   "source": [
    "(rand - np.mean(rand))/np.std(rand)"
   ]
  },
  {
   "cell_type": "markdown",
   "id": "58497099",
   "metadata": {},
   "source": [
    "#### 13. How to find common values between two arrays? (★☆☆)\n",
    "`hint: np.intersect1d`"
   ]
  },
  {
   "cell_type": "code",
   "execution_count": 109,
   "id": "ca8ec929",
   "metadata": {},
   "outputs": [
    {
     "data": {
      "text/plain": [
       "array([1, 2, 3])"
      ]
     },
     "execution_count": 109,
     "metadata": {},
     "output_type": "execute_result"
    }
   ],
   "source": [
    "np.intersect1d([1, 2, 3, 4], [0, 1, 2, 3])"
   ]
  },
  {
   "cell_type": "markdown",
   "id": "c4ff5c91",
   "metadata": {},
   "source": [
    "#### 14. Create a random vector of size 10 and sort it (★★☆)\n",
    "`hint: sort`"
   ]
  },
  {
   "cell_type": "code",
   "execution_count": 115,
   "id": "42775850",
   "metadata": {},
   "outputs": [],
   "source": [
    "rv_s = np.sort(np.random.random((10)))"
   ]
  },
  {
   "cell_type": "code",
   "execution_count": 116,
   "id": "bdbeb13a",
   "metadata": {},
   "outputs": [
    {
     "data": {
      "text/plain": [
       "array([0.1678036 , 0.23735605, 0.43917179, 0.50093723, 0.62134709,\n",
       "       0.6806946 , 0.74339992, 0.80010388, 0.86545978, 0.99072524])"
      ]
     },
     "execution_count": 116,
     "metadata": {},
     "output_type": "execute_result"
    }
   ],
   "source": [
    "rv_s"
   ]
  },
  {
   "cell_type": "markdown",
   "id": "7e181ed5",
   "metadata": {},
   "source": [
    "#### 15. Create random vector of size 10 and replace the maximum value by 0 (★★☆)\n",
    "`hint: argmax`"
   ]
  },
  {
   "cell_type": "code",
   "execution_count": 124,
   "id": "fb3b2786",
   "metadata": {},
   "outputs": [],
   "source": [
    "rv_max = np.random.random((10))"
   ]
  },
  {
   "cell_type": "code",
   "execution_count": 125,
   "id": "c2e14baa",
   "metadata": {},
   "outputs": [
    {
     "data": {
      "text/plain": [
       "array([0.85662237, 0.0013305 , 0.56691817, 0.59847265, 0.59838819,\n",
       "       0.26551611, 0.63948416, 0.85137226, 0.50011829, 0.20684158])"
      ]
     },
     "execution_count": 125,
     "metadata": {},
     "output_type": "execute_result"
    }
   ],
   "source": [
    "rv_max"
   ]
  },
  {
   "cell_type": "code",
   "execution_count": 127,
   "id": "05a070c9",
   "metadata": {},
   "outputs": [
    {
     "data": {
      "text/plain": [
       "0"
      ]
     },
     "execution_count": 127,
     "metadata": {},
     "output_type": "execute_result"
    }
   ],
   "source": [
    "np.argmax(rv_max)"
   ]
  },
  {
   "cell_type": "markdown",
   "id": "9105c44c",
   "metadata": {},
   "source": [
    "#### 16. Subtract the mean of each row of a matrix (★★☆)\n",
    "`hint: mean(axis=,keepdims=)`"
   ]
  },
  {
   "cell_type": "code",
   "execution_count": 129,
   "id": "833ac195",
   "metadata": {},
   "outputs": [
    {
     "data": {
      "text/plain": [
       "array([[-1., -3., -5.],\n",
       "       [ 2.,  0., -2.],\n",
       "       [ 5.,  3.,  1.]])"
      ]
     },
     "execution_count": 129,
     "metadata": {},
     "output_type": "execute_result"
    }
   ],
   "source": [
    "matrix = np.arange(0, 9).reshape((3, 3))\n",
    "\n",
    "matrix - np.mean(matrix, axis=1)"
   ]
  },
  {
   "cell_type": "markdown",
   "id": "c6ab3c4a",
   "metadata": {},
   "source": [
    "#### 17. How to get the n largest values of an array (★★★)\n",
    "`Z = np.arange(10000)\n",
    "np.random.shuffle(Z)\n",
    "n = 5\n",
    "hint: np.argsort | np.argpartition`"
   ]
  },
  {
   "cell_type": "code",
   "execution_count": 130,
   "id": "0e8513e1",
   "metadata": {},
   "outputs": [],
   "source": [
    "Z = np.arange(10000)\n",
    "np.random.shuffle(Z)\n",
    "n = 5"
   ]
  },
  {
   "cell_type": "code",
   "execution_count": 131,
   "id": "21cb3657",
   "metadata": {},
   "outputs": [
    {
     "data": {
      "text/plain": [
       "array([3687, 7065, 8327, ..., 9904, 4508, 3250])"
      ]
     },
     "execution_count": 131,
     "metadata": {},
     "output_type": "execute_result"
    }
   ],
   "source": [
    "np.argsort(Z)"
   ]
  },
  {
   "cell_type": "code",
   "execution_count": 133,
   "id": "5b0a8987",
   "metadata": {},
   "outputs": [
    {
     "data": {
      "text/plain": [
       "array([3687, 7065,  946, ..., 9997, 9998, 4999])"
      ]
     },
     "execution_count": 133,
     "metadata": {},
     "output_type": "execute_result"
    }
   ],
   "source": [
    "np.argpartition(Z, 5)"
   ]
  },
  {
   "cell_type": "markdown",
   "id": "58ff2f85",
   "metadata": {},
   "source": [
    "#### 18. Create a random 5*3 matrix and replace items that are larger than 4 by their squares ( Example:  6 --> 36) \n",
    "`hint: np.where"
   ]
  },
  {
   "cell_type": "code",
   "execution_count": 138,
   "id": "23ec6e15",
   "metadata": {},
   "outputs": [],
   "source": [
    "matrix = np.arange(15).reshape((5, 3))"
   ]
  },
  {
   "cell_type": "code",
   "execution_count": 136,
   "id": "7b66f836",
   "metadata": {},
   "outputs": [
    {
     "data": {
      "text/plain": [
       "array([[ 0,  1,  2],\n",
       "       [ 3,  4,  5],\n",
       "       [ 6,  7,  8],\n",
       "       [ 9, 10, 11],\n",
       "       [12, 13, 14]])"
      ]
     },
     "execution_count": 136,
     "metadata": {},
     "output_type": "execute_result"
    }
   ],
   "source": [
    "matrix"
   ]
  },
  {
   "cell_type": "code",
   "execution_count": 142,
   "id": "dd627918",
   "metadata": {},
   "outputs": [
    {
     "data": {
      "text/plain": [
       "array([[ 0,  1,  4],\n",
       "       [ 9, 16,  5],\n",
       "       [ 6,  7,  8],\n",
       "       [ 9, 10, 11],\n",
       "       [12, 13, 14]])"
      ]
     },
     "execution_count": 142,
     "metadata": {},
     "output_type": "execute_result"
    }
   ],
   "source": [
    "np.where(matrix > 4, matrix, matrix**2)"
   ]
  },
  {
   "cell_type": "code",
   "execution_count": null,
   "id": "b48122ec",
   "metadata": {},
   "outputs": [],
   "source": []
  }
 ],
 "metadata": {
  "kernelspec": {
   "display_name": "Python 3 (ipykernel)",
   "language": "python",
   "name": "python3"
  },
  "language_info": {
   "codemirror_mode": {
    "name": "ipython",
    "version": 3
   },
   "file_extension": ".py",
   "mimetype": "text/x-python",
   "name": "python",
   "nbconvert_exporter": "python",
   "pygments_lexer": "ipython3",
   "version": "3.9.12"
  }
 },
 "nbformat": 4,
 "nbformat_minor": 5
}
