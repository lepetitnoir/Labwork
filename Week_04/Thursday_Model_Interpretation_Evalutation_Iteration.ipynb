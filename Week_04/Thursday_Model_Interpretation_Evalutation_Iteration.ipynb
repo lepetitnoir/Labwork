{
 "cells": [
  {
   "cell_type": "markdown",
   "metadata": {},
   "source": [
    "\n",
    "# Activity\n",
    "\n",
    "# Linear Regression (Wednesday)\n",
    "\n",
    "\n",
    "    X-y split (y is the target variable, which is the total claim amount)\n",
    "    Train-test split.\n",
    "    Standardize the data (after the data split).\n",
    "    Apply linear regression.\n",
    "    Model Interpretation.\n",
    "\n",
    "\n",
    "\n",
    "# Model Validation (Thursday)\n",
    "\n",
    "    Model Evaluation:\n",
    "        MSE.\n",
    "        RMSE.\n",
    "        MAE.\n",
    "        R2.\n",
    "        Adjusted R2.\n",
    "    Feature Importance.\n",
    "\n",
    "# Model Iteration (Thursday and Friday)\n",
    "\n",
    "    Please rerun the model after adding the hot encoded categorical variables as well as other numeric categroical variables (e.g. number of open complaintes).\n",
    "    (Optional) Please rerun the model after removing the outliers and compare the results using R2 metric.\n",
    "\n",
    "\n",
    "\n"
   ]
  },
  {
   "cell_type": "markdown",
   "metadata": {},
   "source": []
  },
  {
   "cell_type": "code",
   "execution_count": 250,
   "metadata": {},
   "outputs": [],
   "source": [
    "import pandas as pd\n",
    "import numpy as np\n",
    "import matplotlib.pyplot as plt\n",
    "import seaborn as sns\n",
    "import math as math\n",
    "from sklearn.preprocessing import StandardScaler\n",
    "from sklearn.preprocessing import quantile_transform\n",
    "from sklearn.preprocessing import minmax_scale\n",
    "from sklearn.preprocessing import OneHotEncoder  ##. better to use dummy from pandas \n",
    "from sklearn.preprocessing import PowerTransformer\n",
    "from scipy.stats import boxcox\n",
    "from sklearn.linear_model import LinearRegression\n",
    "from sklearn.model_selection import train_test_split\n",
    "import statsmodels.api as sm\n",
    "from scipy.stats import boxcox\n",
    "from sklearn.metrics import r2_score\n",
    "from sklearn.metrics import mean_squared_error as mse\n",
    "from sklearn.metrics import mean_absolute_error as mae\n",
    "pd.options.display.max_rows = 50\n"
   ]
  },
  {
   "cell_type": "code",
   "execution_count": 2,
   "metadata": {},
   "outputs": [],
   "source": [
    "# load ding data \n",
    "\n",
    "CA = pd.read_csv(\"Data_Marketing_Customer_Analysis_Round3.csv\")"
   ]
  },
  {
   "cell_type": "code",
   "execution_count": 3,
   "metadata": {},
   "outputs": [
    {
     "name": "stdout",
     "output_type": "stream",
     "text": [
      "<class 'pandas.core.frame.DataFrame'>\n",
      "RangeIndex: 10689 entries, 0 to 10688\n",
      "Data columns (total 24 columns):\n",
      " #   Column                         Non-Null Count  Dtype \n",
      "---  ------                         --------------  ----- \n",
      " 0   region                         10689 non-null  object\n",
      " 1   customer_lifetime_value        10689 non-null  int64 \n",
      " 2   response                       10689 non-null  object\n",
      " 3   coverage                       10689 non-null  object\n",
      " 4   education                      10689 non-null  object\n",
      " 5   effective_to_date              10689 non-null  object\n",
      " 6   month                          10689 non-null  object\n",
      " 7   employment_status              10689 non-null  object\n",
      " 8   gender                         10689 non-null  object\n",
      " 9   income                         10689 non-null  int64 \n",
      " 10  location_code                  10689 non-null  object\n",
      " 11  marital_status                 10689 non-null  object\n",
      " 12  monthly_premium_auto           10689 non-null  int64 \n",
      " 13  months_since_last_claim        10689 non-null  int64 \n",
      " 14  months_since_policy_inception  10689 non-null  int64 \n",
      " 15  number_of_open_complaints      10689 non-null  int64 \n",
      " 16  number_of_policies             10689 non-null  int64 \n",
      " 17  policy_type                    10689 non-null  object\n",
      " 18  policy                         10689 non-null  object\n",
      " 19  renew_offer_type               10689 non-null  object\n",
      " 20  sales_channel                  10689 non-null  object\n",
      " 21  total_claim_amount             10689 non-null  int64 \n",
      " 22  vehicle_class                  10689 non-null  object\n",
      " 23  vehicle_size                   10689 non-null  object\n",
      "dtypes: int64(8), object(16)\n",
      "memory usage: 2.0+ MB\n"
     ]
    }
   ],
   "source": [
    "# checking for data types\n",
    "\n",
    "CA.info()"
   ]
  },
  {
   "cell_type": "code",
   "execution_count": 4,
   "metadata": {},
   "outputs": [
    {
     "data": {
      "text/plain": [
       "Index(['region', 'customer_lifetime_value', 'response', 'coverage',\n",
       "       'education', 'effective_to_date', 'month', 'employment_status',\n",
       "       'gender', 'income', 'location_code', 'marital_status',\n",
       "       'monthly_premium_auto', 'months_since_last_claim',\n",
       "       'months_since_policy_inception', 'number_of_open_complaints',\n",
       "       'number_of_policies', 'policy_type', 'policy', 'renew_offer_type',\n",
       "       'sales_channel', 'total_claim_amount', 'vehicle_class', 'vehicle_size'],\n",
       "      dtype='object')"
      ]
     },
     "execution_count": 4,
     "metadata": {},
     "output_type": "execute_result"
    }
   ],
   "source": [
    "# displaying columns\n",
    "\n",
    "CA.columns"
   ]
  },
  {
   "cell_type": "code",
   "execution_count": 5,
   "metadata": {},
   "outputs": [
    {
     "data": {
      "text/plain": [
       "[]"
      ]
     },
     "execution_count": 5,
     "metadata": {},
     "output_type": "execute_result"
    }
   ],
   "source": [
    "# checking for highly correlated columns (output empty list, because no correlation > 0.75)\n",
    "\n",
    "corr_matrix = CA.corr().abs()\n",
    "upper_triangle = corr_matrix.where(np.triu(np.ones(corr_matrix.shape),k=1).astype(bool))\n",
    "[column for column in upper_triangle.columns if any(upper_triangle[column] > 0.75)]"
   ]
  },
  {
   "cell_type": "code",
   "execution_count": 6,
   "metadata": {},
   "outputs": [
    {
     "data": {
      "text/plain": [
       "array([[<AxesSubplot:title={'center':'customer_lifetime_value'}>,\n",
       "        <AxesSubplot:title={'center':'income'}>,\n",
       "        <AxesSubplot:title={'center':'monthly_premium_auto'}>],\n",
       "       [<AxesSubplot:title={'center':'months_since_last_claim'}>,\n",
       "        <AxesSubplot:title={'center':'months_since_policy_inception'}>,\n",
       "        <AxesSubplot:title={'center':'number_of_open_complaints'}>],\n",
       "       [<AxesSubplot:title={'center':'number_of_policies'}>,\n",
       "        <AxesSubplot:title={'center':'total_claim_amount'}>,\n",
       "        <AxesSubplot:>]], dtype=object)"
      ]
     },
     "execution_count": 6,
     "metadata": {},
     "output_type": "execute_result"
    },
    {
     "data": {
      "image/png": "[encoded data removed]",
      "text/plain": [
       "<Figure size 1008x1008 with 9 Axes>"
      ]
     },
     "metadata": {
      "needs_background": "light"
     },
     "output_type": "display_data"
    }
   ],
   "source": [
    "# checking distribution in histograms (for numerical values only)\n",
    "\n",
    "CA.hist(figsize = (14, 14))"
   ]
  },
  {
   "cell_type": "code",
   "execution_count": 84,
   "metadata": {},
   "outputs": [
    {
     "data": {
      "text/plain": [
       "array(['basic', 'extended', 'premium'], dtype=object)"
      ]
     },
     "execution_count": 84,
     "metadata": {},
     "output_type": "execute_result"
    }
   ],
   "source": [
    "CA[\"coverage\"].unique()"
   ]
  },
  {
   "cell_type": "code",
   "execution_count": 195,
   "metadata": {},
   "outputs": [
    {
     "data": {
      "text/html": [
       "<div>\n",
       "<style scoped>\n",
       "    .dataframe tbody tr th:only-of-type {\n",
       "        vertical-align: middle;\n",
       "    }\n",
       "\n",
       "    .dataframe tbody tr th {\n",
       "        vertical-align: top;\n",
       "    }\n",
       "\n",
       "    .dataframe thead th {\n",
       "        text-align: right;\n",
       "    }\n",
       "</style>\n",
       "<table border=\"1\" class=\"dataframe\">\n",
       "  <thead>\n",
       "    <tr style=\"text-align: right;\">\n",
       "      <th></th>\n",
       "      <th>region</th>\n",
       "      <th>response</th>\n",
       "      <th>coverage</th>\n",
       "      <th>education</th>\n",
       "      <th>effective_to_date</th>\n",
       "      <th>month</th>\n",
       "      <th>employment_status</th>\n",
       "      <th>gender</th>\n",
       "      <th>location_code</th>\n",
       "      <th>marital_status</th>\n",
       "      <th>policy_type</th>\n",
       "      <th>policy</th>\n",
       "      <th>renew_offer_type</th>\n",
       "      <th>sales_channel</th>\n",
       "      <th>vehicle_class</th>\n",
       "      <th>vehicle_size</th>\n",
       "    </tr>\n",
       "  </thead>\n",
       "  <tbody>\n",
       "    <tr>\n",
       "      <th>0</th>\n",
       "      <td>central</td>\n",
       "      <td>no</td>\n",
       "      <td>basic</td>\n",
       "      <td>college</td>\n",
       "      <td>2/18/11</td>\n",
       "      <td>feb</td>\n",
       "      <td>employed</td>\n",
       "      <td>m</td>\n",
       "      <td>suburban</td>\n",
       "      <td>married</td>\n",
       "      <td>corporate auto</td>\n",
       "      <td>corporate l3</td>\n",
       "      <td>offer3</td>\n",
       "      <td>agent</td>\n",
       "      <td>four-door car</td>\n",
       "      <td>medsize</td>\n",
       "    </tr>\n",
       "    <tr>\n",
       "      <th>1</th>\n",
       "      <td>west region</td>\n",
       "      <td>no</td>\n",
       "      <td>basic</td>\n",
       "      <td>college</td>\n",
       "      <td>1/18/11</td>\n",
       "      <td>jan</td>\n",
       "      <td>unemployed</td>\n",
       "      <td>f</td>\n",
       "      <td>suburban</td>\n",
       "      <td>single</td>\n",
       "      <td>personal auto</td>\n",
       "      <td>personal l3</td>\n",
       "      <td>offer4</td>\n",
       "      <td>call center</td>\n",
       "      <td>four-door car</td>\n",
       "      <td>medsize</td>\n",
       "    </tr>\n",
       "    <tr>\n",
       "      <th>2</th>\n",
       "      <td>east</td>\n",
       "      <td>no</td>\n",
       "      <td>basic</td>\n",
       "      <td>bachelor</td>\n",
       "      <td>2/10/11</td>\n",
       "      <td>feb</td>\n",
       "      <td>employed</td>\n",
       "      <td>m</td>\n",
       "      <td>suburban</td>\n",
       "      <td>single</td>\n",
       "      <td>personal auto</td>\n",
       "      <td>personal l3</td>\n",
       "      <td>offer3</td>\n",
       "      <td>call center</td>\n",
       "      <td>suv</td>\n",
       "      <td>medsize</td>\n",
       "    </tr>\n",
       "    <tr>\n",
       "      <th>3</th>\n",
       "      <td>north west</td>\n",
       "      <td>yes</td>\n",
       "      <td>extended</td>\n",
       "      <td>college</td>\n",
       "      <td>1/11/11</td>\n",
       "      <td>jan</td>\n",
       "      <td>employed</td>\n",
       "      <td>m</td>\n",
       "      <td>suburban</td>\n",
       "      <td>single</td>\n",
       "      <td>corporate auto</td>\n",
       "      <td>corporate l3</td>\n",
       "      <td>offer2</td>\n",
       "      <td>branch</td>\n",
       "      <td>four-door car</td>\n",
       "      <td>medsize</td>\n",
       "    </tr>\n",
       "    <tr>\n",
       "      <th>4</th>\n",
       "      <td>north west</td>\n",
       "      <td>no</td>\n",
       "      <td>premium</td>\n",
       "      <td>bachelor</td>\n",
       "      <td>1/17/11</td>\n",
       "      <td>jan</td>\n",
       "      <td>medical leave</td>\n",
       "      <td>f</td>\n",
       "      <td>suburban</td>\n",
       "      <td>married</td>\n",
       "      <td>personal auto</td>\n",
       "      <td>personal l2</td>\n",
       "      <td>offer1</td>\n",
       "      <td>branch</td>\n",
       "      <td>four-door car</td>\n",
       "      <td>medsize</td>\n",
       "    </tr>\n",
       "    <tr>\n",
       "      <th>...</th>\n",
       "      <td>...</td>\n",
       "      <td>...</td>\n",
       "      <td>...</td>\n",
       "      <td>...</td>\n",
       "      <td>...</td>\n",
       "      <td>...</td>\n",
       "      <td>...</td>\n",
       "      <td>...</td>\n",
       "      <td>...</td>\n",
       "      <td>...</td>\n",
       "      <td>...</td>\n",
       "      <td>...</td>\n",
       "      <td>...</td>\n",
       "      <td>...</td>\n",
       "      <td>...</td>\n",
       "      <td>...</td>\n",
       "    </tr>\n",
       "    <tr>\n",
       "      <th>10684</th>\n",
       "      <td>central</td>\n",
       "      <td>no</td>\n",
       "      <td>premium</td>\n",
       "      <td>bachelor</td>\n",
       "      <td>1/19/11</td>\n",
       "      <td>jan</td>\n",
       "      <td>unemployed</td>\n",
       "      <td>f</td>\n",
       "      <td>suburban</td>\n",
       "      <td>married</td>\n",
       "      <td>personal auto</td>\n",
       "      <td>personal l1</td>\n",
       "      <td>offer3</td>\n",
       "      <td>web</td>\n",
       "      <td>luxury car</td>\n",
       "      <td>medsize</td>\n",
       "    </tr>\n",
       "    <tr>\n",
       "      <th>10685</th>\n",
       "      <td>north west</td>\n",
       "      <td>no</td>\n",
       "      <td>basic</td>\n",
       "      <td>college</td>\n",
       "      <td>1/6/11</td>\n",
       "      <td>jan</td>\n",
       "      <td>employed</td>\n",
       "      <td>f</td>\n",
       "      <td>urban</td>\n",
       "      <td>married</td>\n",
       "      <td>personal auto</td>\n",
       "      <td>personal l3</td>\n",
       "      <td>offer2</td>\n",
       "      <td>branch</td>\n",
       "      <td>four-door car</td>\n",
       "      <td>medsize</td>\n",
       "    </tr>\n",
       "    <tr>\n",
       "      <th>10686</th>\n",
       "      <td>central</td>\n",
       "      <td>no</td>\n",
       "      <td>extended</td>\n",
       "      <td>bachelor</td>\n",
       "      <td>2/6/11</td>\n",
       "      <td>feb</td>\n",
       "      <td>employed</td>\n",
       "      <td>f</td>\n",
       "      <td>rural</td>\n",
       "      <td>married</td>\n",
       "      <td>corporate auto</td>\n",
       "      <td>corporate l3</td>\n",
       "      <td>offer1</td>\n",
       "      <td>web</td>\n",
       "      <td>luxury suv</td>\n",
       "      <td>medsize</td>\n",
       "    </tr>\n",
       "    <tr>\n",
       "      <th>10687</th>\n",
       "      <td>west region</td>\n",
       "      <td>no</td>\n",
       "      <td>premium</td>\n",
       "      <td>college</td>\n",
       "      <td>2/13/11</td>\n",
       "      <td>feb</td>\n",
       "      <td>employed</td>\n",
       "      <td>f</td>\n",
       "      <td>urban</td>\n",
       "      <td>divorced</td>\n",
       "      <td>personal auto</td>\n",
       "      <td>personal l1</td>\n",
       "      <td>offer1</td>\n",
       "      <td>branch</td>\n",
       "      <td>suv</td>\n",
       "      <td>medsize</td>\n",
       "    </tr>\n",
       "    <tr>\n",
       "      <th>10688</th>\n",
       "      <td>central</td>\n",
       "      <td>no</td>\n",
       "      <td>basic</td>\n",
       "      <td>bachelor</td>\n",
       "      <td>1/8/11</td>\n",
       "      <td>jan</td>\n",
       "      <td>unemployed</td>\n",
       "      <td>m</td>\n",
       "      <td>suburban</td>\n",
       "      <td>single</td>\n",
       "      <td>personal auto</td>\n",
       "      <td>personal l1</td>\n",
       "      <td>offer4</td>\n",
       "      <td>web</td>\n",
       "      <td>suv</td>\n",
       "      <td>medsize</td>\n",
       "    </tr>\n",
       "  </tbody>\n",
       "</table>\n",
       "<p>10689 rows × 16 columns</p>\n",
       "</div>"
      ],
      "text/plain": [
       "            region response  coverage education effective_to_date month  \\\n",
       "0          central       no     basic   college           2/18/11   feb   \n",
       "1      west region       no     basic   college           1/18/11   jan   \n",
       "2             east       no     basic  bachelor           2/10/11   feb   \n",
       "3       north west      yes  extended   college           1/11/11   jan   \n",
       "4       north west       no   premium  bachelor           1/17/11   jan   \n",
       "...            ...      ...       ...       ...               ...   ...   \n",
       "10684      central       no   premium  bachelor           1/19/11   jan   \n",
       "10685   north west       no     basic   college            1/6/11   jan   \n",
       "10686      central       no  extended  bachelor            2/6/11   feb   \n",
       "10687  west region       no   premium   college           2/13/11   feb   \n",
       "10688      central       no     basic  bachelor            1/8/11   jan   \n",
       "\n",
       "      employment_status gender location_code marital_status     policy_type  \\\n",
       "0              employed      m      suburban        married  corporate auto   \n",
       "1            unemployed      f      suburban         single   personal auto   \n",
       "2              employed      m      suburban         single   personal auto   \n",
       "3              employed      m      suburban         single  corporate auto   \n",
       "4         medical leave      f      suburban        married   personal auto   \n",
       "...                 ...    ...           ...            ...             ...   \n",
       "10684        unemployed      f      suburban        married   personal auto   \n",
       "10685          employed      f         urban        married   personal auto   \n",
       "10686          employed      f         rural        married  corporate auto   \n",
       "10687          employed      f         urban       divorced   personal auto   \n",
       "10688        unemployed      m      suburban         single   personal auto   \n",
       "\n",
       "             policy renew_offer_type sales_channel  vehicle_class vehicle_size  \n",
       "0      corporate l3           offer3         agent  four-door car      medsize  \n",
       "1       personal l3           offer4   call center  four-door car      medsize  \n",
       "2       personal l3           offer3   call center            suv      medsize  \n",
       "3      corporate l3           offer2        branch  four-door car      medsize  \n",
       "4       personal l2           offer1        branch  four-door car      medsize  \n",
       "...             ...              ...           ...            ...          ...  \n",
       "10684   personal l1           offer3           web     luxury car      medsize  \n",
       "10685   personal l3           offer2        branch  four-door car      medsize  \n",
       "10686  corporate l3           offer1           web     luxury suv      medsize  \n",
       "10687   personal l1           offer1        branch            suv      medsize  \n",
       "10688   personal l1           offer4           web            suv      medsize  \n",
       "\n",
       "[10689 rows x 16 columns]"
      ]
     },
     "execution_count": 195,
     "metadata": {},
     "output_type": "execute_result"
    }
   ],
   "source": [
    "# displaying object in table \n",
    "\n",
    "categoricals_features = CA.select_dtypes(\"object\")\n",
    "categoricals_features"
   ]
  },
  {
   "cell_type": "code",
   "execution_count": 107,
   "metadata": {},
   "outputs": [
    {
     "name": "stderr",
     "output_type": "stream",
     "text": [
      "/opt/anaconda3/lib/python3.8/site-packages/pandas/core/frame.py:4308: SettingWithCopyWarning: \n",
      "A value is trying to be set on a copy of a slice from a DataFrame\n",
      "\n",
      "See the caveats in the documentation: https://pandas.pydata.org/pandas-docs/stable/user_guide/indexing.html#returning-a-view-versus-a-copy\n",
      "  return super().drop(\n"
     ]
    }
   ],
   "source": [
    "categoricals_features.drop([\"effective_to_date\"], axis = 1, inplace = True)"
   ]
  },
  {
   "cell_type": "code",
   "execution_count": 196,
   "metadata": {},
   "outputs": [
    {
     "data": {
      "text/html": [
       "<div>\n",
       "<style scoped>\n",
       "    .dataframe tbody tr th:only-of-type {\n",
       "        vertical-align: middle;\n",
       "    }\n",
       "\n",
       "    .dataframe tbody tr th {\n",
       "        vertical-align: top;\n",
       "    }\n",
       "\n",
       "    .dataframe thead th {\n",
       "        text-align: right;\n",
       "    }\n",
       "</style>\n",
       "<table border=\"1\" class=\"dataframe\">\n",
       "  <thead>\n",
       "    <tr style=\"text-align: right;\">\n",
       "      <th></th>\n",
       "      <th>employment_status_disabled</th>\n",
       "      <th>employment_status_employed</th>\n",
       "      <th>employment_status_medical leave</th>\n",
       "      <th>employment_status_retired</th>\n",
       "      <th>employment_status_unemployed</th>\n",
       "      <th>gender_f</th>\n",
       "      <th>gender_m</th>\n",
       "      <th>location_code_rural</th>\n",
       "      <th>location_code_suburban</th>\n",
       "      <th>location_code_urban</th>\n",
       "      <th>...</th>\n",
       "      <th>sales_channel_agent</th>\n",
       "      <th>sales_channel_branch</th>\n",
       "      <th>sales_channel_call center</th>\n",
       "      <th>sales_channel_web</th>\n",
       "      <th>vehicle_class_four-door car</th>\n",
       "      <th>vehicle_class_luxury car</th>\n",
       "      <th>vehicle_class_luxury suv</th>\n",
       "      <th>vehicle_class_sports car</th>\n",
       "      <th>vehicle_class_suv</th>\n",
       "      <th>vehicle_class_two-door car</th>\n",
       "    </tr>\n",
       "  </thead>\n",
       "  <tbody>\n",
       "    <tr>\n",
       "      <th>0</th>\n",
       "      <td>0</td>\n",
       "      <td>1</td>\n",
       "      <td>0</td>\n",
       "      <td>0</td>\n",
       "      <td>0</td>\n",
       "      <td>0</td>\n",
       "      <td>1</td>\n",
       "      <td>0</td>\n",
       "      <td>1</td>\n",
       "      <td>0</td>\n",
       "      <td>...</td>\n",
       "      <td>1</td>\n",
       "      <td>0</td>\n",
       "      <td>0</td>\n",
       "      <td>0</td>\n",
       "      <td>1</td>\n",
       "      <td>0</td>\n",
       "      <td>0</td>\n",
       "      <td>0</td>\n",
       "      <td>0</td>\n",
       "      <td>0</td>\n",
       "    </tr>\n",
       "    <tr>\n",
       "      <th>1</th>\n",
       "      <td>0</td>\n",
       "      <td>0</td>\n",
       "      <td>0</td>\n",
       "      <td>0</td>\n",
       "      <td>1</td>\n",
       "      <td>1</td>\n",
       "      <td>0</td>\n",
       "      <td>0</td>\n",
       "      <td>1</td>\n",
       "      <td>0</td>\n",
       "      <td>...</td>\n",
       "      <td>0</td>\n",
       "      <td>0</td>\n",
       "      <td>1</td>\n",
       "      <td>0</td>\n",
       "      <td>1</td>\n",
       "      <td>0</td>\n",
       "      <td>0</td>\n",
       "      <td>0</td>\n",
       "      <td>0</td>\n",
       "      <td>0</td>\n",
       "    </tr>\n",
       "    <tr>\n",
       "      <th>2</th>\n",
       "      <td>0</td>\n",
       "      <td>1</td>\n",
       "      <td>0</td>\n",
       "      <td>0</td>\n",
       "      <td>0</td>\n",
       "      <td>0</td>\n",
       "      <td>1</td>\n",
       "      <td>0</td>\n",
       "      <td>1</td>\n",
       "      <td>0</td>\n",
       "      <td>...</td>\n",
       "      <td>0</td>\n",
       "      <td>0</td>\n",
       "      <td>1</td>\n",
       "      <td>0</td>\n",
       "      <td>0</td>\n",
       "      <td>0</td>\n",
       "      <td>0</td>\n",
       "      <td>0</td>\n",
       "      <td>1</td>\n",
       "      <td>0</td>\n",
       "    </tr>\n",
       "    <tr>\n",
       "      <th>3</th>\n",
       "      <td>0</td>\n",
       "      <td>1</td>\n",
       "      <td>0</td>\n",
       "      <td>0</td>\n",
       "      <td>0</td>\n",
       "      <td>0</td>\n",
       "      <td>1</td>\n",
       "      <td>0</td>\n",
       "      <td>1</td>\n",
       "      <td>0</td>\n",
       "      <td>...</td>\n",
       "      <td>0</td>\n",
       "      <td>1</td>\n",
       "      <td>0</td>\n",
       "      <td>0</td>\n",
       "      <td>1</td>\n",
       "      <td>0</td>\n",
       "      <td>0</td>\n",
       "      <td>0</td>\n",
       "      <td>0</td>\n",
       "      <td>0</td>\n",
       "    </tr>\n",
       "    <tr>\n",
       "      <th>4</th>\n",
       "      <td>0</td>\n",
       "      <td>0</td>\n",
       "      <td>1</td>\n",
       "      <td>0</td>\n",
       "      <td>0</td>\n",
       "      <td>1</td>\n",
       "      <td>0</td>\n",
       "      <td>0</td>\n",
       "      <td>1</td>\n",
       "      <td>0</td>\n",
       "      <td>...</td>\n",
       "      <td>0</td>\n",
       "      <td>1</td>\n",
       "      <td>0</td>\n",
       "      <td>0</td>\n",
       "      <td>1</td>\n",
       "      <td>0</td>\n",
       "      <td>0</td>\n",
       "      <td>0</td>\n",
       "      <td>0</td>\n",
       "      <td>0</td>\n",
       "    </tr>\n",
       "    <tr>\n",
       "      <th>...</th>\n",
       "      <td>...</td>\n",
       "      <td>...</td>\n",
       "      <td>...</td>\n",
       "      <td>...</td>\n",
       "      <td>...</td>\n",
       "      <td>...</td>\n",
       "      <td>...</td>\n",
       "      <td>...</td>\n",
       "      <td>...</td>\n",
       "      <td>...</td>\n",
       "      <td>...</td>\n",
       "      <td>...</td>\n",
       "      <td>...</td>\n",
       "      <td>...</td>\n",
       "      <td>...</td>\n",
       "      <td>...</td>\n",
       "      <td>...</td>\n",
       "      <td>...</td>\n",
       "      <td>...</td>\n",
       "      <td>...</td>\n",
       "      <td>...</td>\n",
       "    </tr>\n",
       "    <tr>\n",
       "      <th>10684</th>\n",
       "      <td>0</td>\n",
       "      <td>0</td>\n",
       "      <td>0</td>\n",
       "      <td>0</td>\n",
       "      <td>1</td>\n",
       "      <td>1</td>\n",
       "      <td>0</td>\n",
       "      <td>0</td>\n",
       "      <td>1</td>\n",
       "      <td>0</td>\n",
       "      <td>...</td>\n",
       "      <td>0</td>\n",
       "      <td>0</td>\n",
       "      <td>0</td>\n",
       "      <td>1</td>\n",
       "      <td>0</td>\n",
       "      <td>1</td>\n",
       "      <td>0</td>\n",
       "      <td>0</td>\n",
       "      <td>0</td>\n",
       "      <td>0</td>\n",
       "    </tr>\n",
       "    <tr>\n",
       "      <th>10685</th>\n",
       "      <td>0</td>\n",
       "      <td>1</td>\n",
       "      <td>0</td>\n",
       "      <td>0</td>\n",
       "      <td>0</td>\n",
       "      <td>1</td>\n",
       "      <td>0</td>\n",
       "      <td>0</td>\n",
       "      <td>0</td>\n",
       "      <td>1</td>\n",
       "      <td>...</td>\n",
       "      <td>0</td>\n",
       "      <td>1</td>\n",
       "      <td>0</td>\n",
       "      <td>0</td>\n",
       "      <td>1</td>\n",
       "      <td>0</td>\n",
       "      <td>0</td>\n",
       "      <td>0</td>\n",
       "      <td>0</td>\n",
       "      <td>0</td>\n",
       "    </tr>\n",
       "    <tr>\n",
       "      <th>10686</th>\n",
       "      <td>0</td>\n",
       "      <td>1</td>\n",
       "      <td>0</td>\n",
       "      <td>0</td>\n",
       "      <td>0</td>\n",
       "      <td>1</td>\n",
       "      <td>0</td>\n",
       "      <td>1</td>\n",
       "      <td>0</td>\n",
       "      <td>0</td>\n",
       "      <td>...</td>\n",
       "      <td>0</td>\n",
       "      <td>0</td>\n",
       "      <td>0</td>\n",
       "      <td>1</td>\n",
       "      <td>0</td>\n",
       "      <td>0</td>\n",
       "      <td>1</td>\n",
       "      <td>0</td>\n",
       "      <td>0</td>\n",
       "      <td>0</td>\n",
       "    </tr>\n",
       "    <tr>\n",
       "      <th>10687</th>\n",
       "      <td>0</td>\n",
       "      <td>1</td>\n",
       "      <td>0</td>\n",
       "      <td>0</td>\n",
       "      <td>0</td>\n",
       "      <td>1</td>\n",
       "      <td>0</td>\n",
       "      <td>0</td>\n",
       "      <td>0</td>\n",
       "      <td>1</td>\n",
       "      <td>...</td>\n",
       "      <td>0</td>\n",
       "      <td>1</td>\n",
       "      <td>0</td>\n",
       "      <td>0</td>\n",
       "      <td>0</td>\n",
       "      <td>0</td>\n",
       "      <td>0</td>\n",
       "      <td>0</td>\n",
       "      <td>1</td>\n",
       "      <td>0</td>\n",
       "    </tr>\n",
       "    <tr>\n",
       "      <th>10688</th>\n",
       "      <td>0</td>\n",
       "      <td>0</td>\n",
       "      <td>0</td>\n",
       "      <td>0</td>\n",
       "      <td>1</td>\n",
       "      <td>0</td>\n",
       "      <td>1</td>\n",
       "      <td>0</td>\n",
       "      <td>1</td>\n",
       "      <td>0</td>\n",
       "      <td>...</td>\n",
       "      <td>0</td>\n",
       "      <td>0</td>\n",
       "      <td>0</td>\n",
       "      <td>1</td>\n",
       "      <td>0</td>\n",
       "      <td>0</td>\n",
       "      <td>0</td>\n",
       "      <td>0</td>\n",
       "      <td>1</td>\n",
       "      <td>0</td>\n",
       "    </tr>\n",
       "  </tbody>\n",
       "</table>\n",
       "<p>10689 rows × 43 columns</p>\n",
       "</div>"
      ],
      "text/plain": [
       "       employment_status_disabled  employment_status_employed  \\\n",
       "0                               0                           1   \n",
       "1                               0                           0   \n",
       "2                               0                           1   \n",
       "3                               0                           1   \n",
       "4                               0                           0   \n",
       "...                           ...                         ...   \n",
       "10684                           0                           0   \n",
       "10685                           0                           1   \n",
       "10686                           0                           1   \n",
       "10687                           0                           1   \n",
       "10688                           0                           0   \n",
       "\n",
       "       employment_status_medical leave  employment_status_retired  \\\n",
       "0                                    0                          0   \n",
       "1                                    0                          0   \n",
       "2                                    0                          0   \n",
       "3                                    0                          0   \n",
       "4                                    1                          0   \n",
       "...                                ...                        ...   \n",
       "10684                                0                          0   \n",
       "10685                                0                          0   \n",
       "10686                                0                          0   \n",
       "10687                                0                          0   \n",
       "10688                                0                          0   \n",
       "\n",
       "       employment_status_unemployed  gender_f  gender_m  location_code_rural  \\\n",
       "0                                 0         0         1                    0   \n",
       "1                                 1         1         0                    0   \n",
       "2                                 0         0         1                    0   \n",
       "3                                 0         0         1                    0   \n",
       "4                                 0         1         0                    0   \n",
       "...                             ...       ...       ...                  ...   \n",
       "10684                             1         1         0                    0   \n",
       "10685                             0         1         0                    0   \n",
       "10686                             0         1         0                    1   \n",
       "10687                             0         1         0                    0   \n",
       "10688                             1         0         1                    0   \n",
       "\n",
       "       location_code_suburban  location_code_urban  ...  sales_channel_agent  \\\n",
       "0                           1                    0  ...                    1   \n",
       "1                           1                    0  ...                    0   \n",
       "2                           1                    0  ...                    0   \n",
       "3                           1                    0  ...                    0   \n",
       "4                           1                    0  ...                    0   \n",
       "...                       ...                  ...  ...                  ...   \n",
       "10684                       1                    0  ...                    0   \n",
       "10685                       0                    1  ...                    0   \n",
       "10686                       0                    0  ...                    0   \n",
       "10687                       0                    1  ...                    0   \n",
       "10688                       1                    0  ...                    0   \n",
       "\n",
       "       sales_channel_branch  sales_channel_call center  sales_channel_web  \\\n",
       "0                         0                          0                  0   \n",
       "1                         0                          1                  0   \n",
       "2                         0                          1                  0   \n",
       "3                         1                          0                  0   \n",
       "4                         1                          0                  0   \n",
       "...                     ...                        ...                ...   \n",
       "10684                     0                          0                  1   \n",
       "10685                     1                          0                  0   \n",
       "10686                     0                          0                  1   \n",
       "10687                     1                          0                  0   \n",
       "10688                     0                          0                  1   \n",
       "\n",
       "       vehicle_class_four-door car  vehicle_class_luxury car  \\\n",
       "0                                1                         0   \n",
       "1                                1                         0   \n",
       "2                                0                         0   \n",
       "3                                1                         0   \n",
       "4                                1                         0   \n",
       "...                            ...                       ...   \n",
       "10684                            0                         1   \n",
       "10685                            1                         0   \n",
       "10686                            0                         0   \n",
       "10687                            0                         0   \n",
       "10688                            0                         0   \n",
       "\n",
       "       vehicle_class_luxury suv  vehicle_class_sports car  vehicle_class_suv  \\\n",
       "0                             0                         0                  0   \n",
       "1                             0                         0                  0   \n",
       "2                             0                         0                  1   \n",
       "3                             0                         0                  0   \n",
       "4                             0                         0                  0   \n",
       "...                         ...                       ...                ...   \n",
       "10684                         0                         0                  0   \n",
       "10685                         0                         0                  0   \n",
       "10686                         1                         0                  0   \n",
       "10687                         0                         0                  1   \n",
       "10688                         0                         0                  1   \n",
       "\n",
       "       vehicle_class_two-door car  \n",
       "0                               0  \n",
       "1                               0  \n",
       "2                               0  \n",
       "3                               0  \n",
       "4                               0  \n",
       "...                           ...  \n",
       "10684                           0  \n",
       "10685                           0  \n",
       "10686                           0  \n",
       "10687                           0  \n",
       "10688                           0  \n",
       "\n",
       "[10689 rows x 43 columns]"
      ]
     },
     "execution_count": 196,
     "metadata": {},
     "output_type": "execute_result"
    }
   ],
   "source": [
    "categoricals_features = pd.get_dummies(categoricals_features[[\"employment_status\", \"gender\", \"location_code\", \"marital_status\", \"month\", \"policy_type\", \"policy\", \"region\", \"response\", \"sales_channel\", \"vehicle_class\"]])\n",
    "categoricals_features"
   ]
  },
  {
   "cell_type": "code",
   "execution_count": 197,
   "metadata": {},
   "outputs": [
    {
     "data": {
      "text/plain": [
       "Index(['employment_status_disabled', 'employment_status_employed',\n",
       "       'employment_status_medical leave', 'employment_status_retired',\n",
       "       'employment_status_unemployed', 'gender_f', 'gender_m',\n",
       "       'location_code_rural', 'location_code_suburban', 'location_code_urban',\n",
       "       'marital_status_divorced', 'marital_status_married',\n",
       "       'marital_status_single', 'month_feb', 'month_jan',\n",
       "       'policy_type_corporate auto', 'policy_type_personal auto',\n",
       "       'policy_type_special auto', 'policy_corporate l1',\n",
       "       'policy_corporate l2', 'policy_corporate l3', 'policy_personal l1',\n",
       "       'policy_personal l2', 'policy_personal l3', 'policy_special l1',\n",
       "       'policy_special l2', 'policy_special l3', 'region_central',\n",
       "       'region_east', 'region_north west', 'region_west region', 'response_no',\n",
       "       'response_yes', 'sales_channel_agent', 'sales_channel_branch',\n",
       "       'sales_channel_call center', 'sales_channel_web',\n",
       "       'vehicle_class_four-door car', 'vehicle_class_luxury car',\n",
       "       'vehicle_class_luxury suv', 'vehicle_class_sports car',\n",
       "       'vehicle_class_suv', 'vehicle_class_two-door car'],\n",
       "      dtype='object')"
      ]
     },
     "execution_count": 197,
     "metadata": {},
     "output_type": "execute_result"
    }
   ],
   "source": [
    "categoricals_features.columns"
   ]
  },
  {
   "cell_type": "code",
   "execution_count": 109,
   "metadata": {},
   "outputs": [
    {
     "data": {
      "text/plain": [
       "array(['medsize', 'small', 'large'], dtype=object)"
      ]
     },
     "execution_count": 109,
     "metadata": {},
     "output_type": "execute_result"
    }
   ],
   "source": [
    "CA[\"vehicle_size\"].unique()"
   ]
  },
  {
   "cell_type": "code",
   "execution_count": 128,
   "metadata": {},
   "outputs": [],
   "source": [
    "ordinals_features = CA[[\"coverage\", \"education\", \"number_of_open_complaints\", \"renew_offer_type\", \"vehicle_size\"]]"
   ]
  },
  {
   "cell_type": "code",
   "execution_count": 137,
   "metadata": {},
   "outputs": [
    {
     "data": {
      "text/html": [
       "<div>\n",
       "<style scoped>\n",
       "    .dataframe tbody tr th:only-of-type {\n",
       "        vertical-align: middle;\n",
       "    }\n",
       "\n",
       "    .dataframe tbody tr th {\n",
       "        vertical-align: top;\n",
       "    }\n",
       "\n",
       "    .dataframe thead th {\n",
       "        text-align: right;\n",
       "    }\n",
       "</style>\n",
       "<table border=\"1\" class=\"dataframe\">\n",
       "  <thead>\n",
       "    <tr style=\"text-align: right;\">\n",
       "      <th></th>\n",
       "      <th>coverage</th>\n",
       "      <th>education</th>\n",
       "      <th>number_of_open_complaints</th>\n",
       "      <th>renew_offer_type</th>\n",
       "      <th>vehicle_size</th>\n",
       "    </tr>\n",
       "  </thead>\n",
       "  <tbody>\n",
       "    <tr>\n",
       "      <th>0</th>\n",
       "      <td>basic</td>\n",
       "      <td>college</td>\n",
       "      <td>0</td>\n",
       "      <td>offer3</td>\n",
       "      <td>medsize</td>\n",
       "    </tr>\n",
       "    <tr>\n",
       "      <th>1</th>\n",
       "      <td>basic</td>\n",
       "      <td>college</td>\n",
       "      <td>0</td>\n",
       "      <td>offer4</td>\n",
       "      <td>medsize</td>\n",
       "    </tr>\n",
       "    <tr>\n",
       "      <th>2</th>\n",
       "      <td>basic</td>\n",
       "      <td>bachelor</td>\n",
       "      <td>0</td>\n",
       "      <td>offer3</td>\n",
       "      <td>medsize</td>\n",
       "    </tr>\n",
       "    <tr>\n",
       "      <th>3</th>\n",
       "      <td>extended</td>\n",
       "      <td>college</td>\n",
       "      <td>0</td>\n",
       "      <td>offer2</td>\n",
       "      <td>medsize</td>\n",
       "    </tr>\n",
       "    <tr>\n",
       "      <th>4</th>\n",
       "      <td>premium</td>\n",
       "      <td>bachelor</td>\n",
       "      <td>0</td>\n",
       "      <td>offer1</td>\n",
       "      <td>medsize</td>\n",
       "    </tr>\n",
       "    <tr>\n",
       "      <th>...</th>\n",
       "      <td>...</td>\n",
       "      <td>...</td>\n",
       "      <td>...</td>\n",
       "      <td>...</td>\n",
       "      <td>...</td>\n",
       "    </tr>\n",
       "    <tr>\n",
       "      <th>10684</th>\n",
       "      <td>premium</td>\n",
       "      <td>bachelor</td>\n",
       "      <td>0</td>\n",
       "      <td>offer3</td>\n",
       "      <td>medsize</td>\n",
       "    </tr>\n",
       "    <tr>\n",
       "      <th>10685</th>\n",
       "      <td>basic</td>\n",
       "      <td>college</td>\n",
       "      <td>0</td>\n",
       "      <td>offer2</td>\n",
       "      <td>medsize</td>\n",
       "    </tr>\n",
       "    <tr>\n",
       "      <th>10686</th>\n",
       "      <td>extended</td>\n",
       "      <td>bachelor</td>\n",
       "      <td>0</td>\n",
       "      <td>offer1</td>\n",
       "      <td>medsize</td>\n",
       "    </tr>\n",
       "    <tr>\n",
       "      <th>10687</th>\n",
       "      <td>premium</td>\n",
       "      <td>college</td>\n",
       "      <td>4</td>\n",
       "      <td>offer1</td>\n",
       "      <td>medsize</td>\n",
       "    </tr>\n",
       "    <tr>\n",
       "      <th>10688</th>\n",
       "      <td>basic</td>\n",
       "      <td>bachelor</td>\n",
       "      <td>0</td>\n",
       "      <td>offer4</td>\n",
       "      <td>medsize</td>\n",
       "    </tr>\n",
       "  </tbody>\n",
       "</table>\n",
       "<p>10689 rows × 5 columns</p>\n",
       "</div>"
      ],
      "text/plain": [
       "       coverage education  number_of_open_complaints renew_offer_type  \\\n",
       "0         basic   college                          0           offer3   \n",
       "1         basic   college                          0           offer4   \n",
       "2         basic  bachelor                          0           offer3   \n",
       "3      extended   college                          0           offer2   \n",
       "4       premium  bachelor                          0           offer1   \n",
       "...         ...       ...                        ...              ...   \n",
       "10684   premium  bachelor                          0           offer3   \n",
       "10685     basic   college                          0           offer2   \n",
       "10686  extended  bachelor                          0           offer1   \n",
       "10687   premium   college                          4           offer1   \n",
       "10688     basic  bachelor                          0           offer4   \n",
       "\n",
       "      vehicle_size  \n",
       "0          medsize  \n",
       "1          medsize  \n",
       "2          medsize  \n",
       "3          medsize  \n",
       "4          medsize  \n",
       "...            ...  \n",
       "10684      medsize  \n",
       "10685      medsize  \n",
       "10686      medsize  \n",
       "10687      medsize  \n",
       "10688      medsize  \n",
       "\n",
       "[10689 rows x 5 columns]"
      ]
     },
     "execution_count": 137,
     "metadata": {},
     "output_type": "execute_result"
    }
   ],
   "source": [
    "ordinals_features"
   ]
  },
  {
   "cell_type": "code",
   "execution_count": 159,
   "metadata": {},
   "outputs": [],
   "source": [
    "ordinals_coverage = {\"basic\": 0, \"extended\": 1, \"premium\": 2}"
   ]
  },
  {
   "cell_type": "code",
   "execution_count": 160,
   "metadata": {},
   "outputs": [],
   "source": [
    "ordinals_features = ordinals_features.replace({\"coverage\": ordinals_coverage})"
   ]
  },
  {
   "cell_type": "code",
   "execution_count": 161,
   "metadata": {},
   "outputs": [],
   "source": [
    "ordinals_education = {\"high school or below\": 0, \"college\": 1, \"bachelor\": 2, \"master\": 3, \"doctor\": 4}"
   ]
  },
  {
   "cell_type": "code",
   "execution_count": 162,
   "metadata": {},
   "outputs": [],
   "source": [
    "ordinals_features = ordinals_features.replace({\"education\": ordinals_education})"
   ]
  },
  {
   "cell_type": "code",
   "execution_count": 163,
   "metadata": {},
   "outputs": [],
   "source": [
    "ordinals_renew_offer_type = {\"offer1\": 0, \"offer2\": 1, \"offer3\": 2, \"offer4\": 3}"
   ]
  },
  {
   "cell_type": "code",
   "execution_count": 164,
   "metadata": {},
   "outputs": [],
   "source": [
    "ordinals_features = ordinals_features.replace({\"renew_offer_type\": ordinals_renew_offer_type})"
   ]
  },
  {
   "cell_type": "code",
   "execution_count": 207,
   "metadata": {},
   "outputs": [],
   "source": [
    "ordinals_vehicle_size = {\"small\": 0, \"medsize\": 1, \"large\": 2}"
   ]
  },
  {
   "cell_type": "code",
   "execution_count": 208,
   "metadata": {},
   "outputs": [],
   "source": [
    "ordinals_features = ordinals_features.replace({\"vehicle_size\": ordinals_vehicle_size})"
   ]
  },
  {
   "cell_type": "code",
   "execution_count": 198,
   "metadata": {},
   "outputs": [
    {
     "data": {
      "text/html": [
       "<div>\n",
       "<style scoped>\n",
       "    .dataframe tbody tr th:only-of-type {\n",
       "        vertical-align: middle;\n",
       "    }\n",
       "\n",
       "    .dataframe tbody tr th {\n",
       "        vertical-align: top;\n",
       "    }\n",
       "\n",
       "    .dataframe thead th {\n",
       "        text-align: right;\n",
       "    }\n",
       "</style>\n",
       "<table border=\"1\" class=\"dataframe\">\n",
       "  <thead>\n",
       "    <tr style=\"text-align: right;\">\n",
       "      <th></th>\n",
       "      <th>coverage</th>\n",
       "      <th>education</th>\n",
       "      <th>number_of_open_complaints</th>\n",
       "      <th>renew_offer_type</th>\n",
       "      <th>vehicle_size</th>\n",
       "    </tr>\n",
       "  </thead>\n",
       "  <tbody>\n",
       "    <tr>\n",
       "      <th>0</th>\n",
       "      <td>0</td>\n",
       "      <td>1</td>\n",
       "      <td>0</td>\n",
       "      <td>2</td>\n",
       "      <td>1</td>\n",
       "    </tr>\n",
       "    <tr>\n",
       "      <th>1</th>\n",
       "      <td>0</td>\n",
       "      <td>1</td>\n",
       "      <td>0</td>\n",
       "      <td>3</td>\n",
       "      <td>1</td>\n",
       "    </tr>\n",
       "    <tr>\n",
       "      <th>2</th>\n",
       "      <td>0</td>\n",
       "      <td>2</td>\n",
       "      <td>0</td>\n",
       "      <td>2</td>\n",
       "      <td>1</td>\n",
       "    </tr>\n",
       "    <tr>\n",
       "      <th>3</th>\n",
       "      <td>1</td>\n",
       "      <td>1</td>\n",
       "      <td>0</td>\n",
       "      <td>1</td>\n",
       "      <td>1</td>\n",
       "    </tr>\n",
       "    <tr>\n",
       "      <th>4</th>\n",
       "      <td>2</td>\n",
       "      <td>2</td>\n",
       "      <td>0</td>\n",
       "      <td>0</td>\n",
       "      <td>1</td>\n",
       "    </tr>\n",
       "    <tr>\n",
       "      <th>...</th>\n",
       "      <td>...</td>\n",
       "      <td>...</td>\n",
       "      <td>...</td>\n",
       "      <td>...</td>\n",
       "      <td>...</td>\n",
       "    </tr>\n",
       "    <tr>\n",
       "      <th>10684</th>\n",
       "      <td>2</td>\n",
       "      <td>2</td>\n",
       "      <td>0</td>\n",
       "      <td>2</td>\n",
       "      <td>1</td>\n",
       "    </tr>\n",
       "    <tr>\n",
       "      <th>10685</th>\n",
       "      <td>0</td>\n",
       "      <td>1</td>\n",
       "      <td>0</td>\n",
       "      <td>1</td>\n",
       "      <td>1</td>\n",
       "    </tr>\n",
       "    <tr>\n",
       "      <th>10686</th>\n",
       "      <td>1</td>\n",
       "      <td>2</td>\n",
       "      <td>0</td>\n",
       "      <td>0</td>\n",
       "      <td>1</td>\n",
       "    </tr>\n",
       "    <tr>\n",
       "      <th>10687</th>\n",
       "      <td>2</td>\n",
       "      <td>1</td>\n",
       "      <td>4</td>\n",
       "      <td>0</td>\n",
       "      <td>1</td>\n",
       "    </tr>\n",
       "    <tr>\n",
       "      <th>10688</th>\n",
       "      <td>0</td>\n",
       "      <td>2</td>\n",
       "      <td>0</td>\n",
       "      <td>3</td>\n",
       "      <td>1</td>\n",
       "    </tr>\n",
       "  </tbody>\n",
       "</table>\n",
       "<p>10689 rows × 5 columns</p>\n",
       "</div>"
      ],
      "text/plain": [
       "      coverage education  number_of_open_complaints renew_offer_type  \\\n",
       "0            0         1                          0                2   \n",
       "1            0         1                          0                3   \n",
       "2            0         2                          0                2   \n",
       "3            1         1                          0                1   \n",
       "4            2         2                          0                0   \n",
       "...        ...       ...                        ...              ...   \n",
       "10684        2         2                          0                2   \n",
       "10685        0         1                          0                1   \n",
       "10686        1         2                          0                0   \n",
       "10687        2         1                          4                0   \n",
       "10688        0         2                          0                3   \n",
       "\n",
       "      vehicle_size  \n",
       "0                1  \n",
       "1                1  \n",
       "2                1  \n",
       "3                1  \n",
       "4                1  \n",
       "...            ...  \n",
       "10684            1  \n",
       "10685            1  \n",
       "10686            1  \n",
       "10687            1  \n",
       "10688            1  \n",
       "\n",
       "[10689 rows x 5 columns]"
      ]
     },
     "execution_count": 198,
     "metadata": {},
     "output_type": "execute_result"
    }
   ],
   "source": [
    "ordinals_features"
   ]
  },
  {
   "cell_type": "code",
   "execution_count": 199,
   "metadata": {},
   "outputs": [],
   "source": [
    "#concatenating nominals and ordinals thereby actualizing categorical features\n",
    "\n",
    "categoricals_features = pd.concat([categoricals_features, ordinals_features], axis = 1)"
   ]
  },
  {
   "cell_type": "code",
   "execution_count": 216,
   "metadata": {},
   "outputs": [],
   "source": [
    "categoricals_features[\"vehicle_size\"] = categoricals_features[\"vehicle_size\"].astype(\"int\")"
   ]
  },
  {
   "cell_type": "code",
   "execution_count": 219,
   "metadata": {},
   "outputs": [],
   "source": [
    "categoricals_features[\"renew_offer_type\"] = categoricals_features[\"renew_offer_type\"].astype(\"int\")"
   ]
  },
  {
   "cell_type": "code",
   "execution_count": 274,
   "metadata": {},
   "outputs": [],
   "source": [
    "categoricals_features[\"coverage\"] = categoricals_features[\"renew_offer_type\"].astype(\"int\")"
   ]
  },
  {
   "cell_type": "code",
   "execution_count": 275,
   "metadata": {},
   "outputs": [],
   "source": [
    "categoricals_features[\"education\"] = categoricals_features[\"renew_offer_type\"].astype(\"int\")"
   ]
  },
  {
   "cell_type": "code",
   "execution_count": 276,
   "metadata": {},
   "outputs": [
    {
     "name": "stdout",
     "output_type": "stream",
     "text": [
      "<class 'pandas.core.frame.DataFrame'>\n",
      "RangeIndex: 10689 entries, 0 to 10688\n",
      "Data columns (total 48 columns):\n",
      " #   Column                           Non-Null Count  Dtype\n",
      "---  ------                           --------------  -----\n",
      " 0   employment_status_disabled       10689 non-null  uint8\n",
      " 1   employment_status_employed       10689 non-null  uint8\n",
      " 2   employment_status_medical leave  10689 non-null  uint8\n",
      " 3   employment_status_retired        10689 non-null  uint8\n",
      " 4   employment_status_unemployed     10689 non-null  uint8\n",
      " 5   gender_f                         10689 non-null  uint8\n",
      " 6   gender_m                         10689 non-null  uint8\n",
      " 7   location_code_rural              10689 non-null  uint8\n",
      " 8   location_code_suburban           10689 non-null  uint8\n",
      " 9   location_code_urban              10689 non-null  uint8\n",
      " 10  marital_status_divorced          10689 non-null  uint8\n",
      " 11  marital_status_married           10689 non-null  uint8\n",
      " 12  marital_status_single            10689 non-null  uint8\n",
      " 13  month_feb                        10689 non-null  uint8\n",
      " 14  month_jan                        10689 non-null  uint8\n",
      " 15  policy_type_corporate auto       10689 non-null  uint8\n",
      " 16  policy_type_personal auto        10689 non-null  uint8\n",
      " 17  policy_type_special auto         10689 non-null  uint8\n",
      " 18  policy_corporate l1              10689 non-null  uint8\n",
      " 19  policy_corporate l2              10689 non-null  uint8\n",
      " 20  policy_corporate l3              10689 non-null  uint8\n",
      " 21  policy_personal l1               10689 non-null  uint8\n",
      " 22  policy_personal l2               10689 non-null  uint8\n",
      " 23  policy_personal l3               10689 non-null  uint8\n",
      " 24  policy_special l1                10689 non-null  uint8\n",
      " 25  policy_special l2                10689 non-null  uint8\n",
      " 26  policy_special l3                10689 non-null  uint8\n",
      " 27  region_central                   10689 non-null  uint8\n",
      " 28  region_east                      10689 non-null  uint8\n",
      " 29  region_north west                10689 non-null  uint8\n",
      " 30  region_west region               10689 non-null  uint8\n",
      " 31  response_no                      10689 non-null  uint8\n",
      " 32  response_yes                     10689 non-null  uint8\n",
      " 33  sales_channel_agent              10689 non-null  uint8\n",
      " 34  sales_channel_branch             10689 non-null  uint8\n",
      " 35  sales_channel_call center        10689 non-null  uint8\n",
      " 36  sales_channel_web                10689 non-null  uint8\n",
      " 37  vehicle_class_four-door car      10689 non-null  uint8\n",
      " 38  vehicle_class_luxury car         10689 non-null  uint8\n",
      " 39  vehicle_class_luxury suv         10689 non-null  uint8\n",
      " 40  vehicle_class_sports car         10689 non-null  uint8\n",
      " 41  vehicle_class_suv                10689 non-null  uint8\n",
      " 42  vehicle_class_two-door car       10689 non-null  uint8\n",
      " 43  coverage                         10689 non-null  int64\n",
      " 44  education                        10689 non-null  int64\n",
      " 45  number_of_open_complaints        10689 non-null  int64\n",
      " 46  renew_offer_type                 10689 non-null  int64\n",
      " 47  vehicle_size                     10689 non-null  int64\n",
      "dtypes: int64(5), uint8(43)\n",
      "memory usage: 866.5 KB\n"
     ]
    }
   ],
   "source": [
    "categoricals_features.info()"
   ]
  },
  {
   "cell_type": "code",
   "execution_count": 277,
   "metadata": {},
   "outputs": [],
   "source": [
    "# X Y split\n",
    "\n",
    "X = CA.drop(\"total_claim_amount\", axis = 1)\n",
    "y = CA.total_claim_amount"
   ]
  },
  {
   "cell_type": "code",
   "execution_count": 278,
   "metadata": {},
   "outputs": [],
   "source": [
    "X = X._get_numeric_data()"
   ]
  },
  {
   "cell_type": "code",
   "execution_count": 279,
   "metadata": {},
   "outputs": [],
   "source": [
    "X = pd.concat([X, categoricals_features], axis = 1)"
   ]
  },
  {
   "cell_type": "code",
   "execution_count": 280,
   "metadata": {},
   "outputs": [],
   "source": [
    "# Data splitting\n",
    "\n",
    "X_train, X_test, y_train, y_test = train_test_split(X, y, test_size = .30, random_state = 123)"
   ]
  },
  {
   "cell_type": "code",
   "execution_count": 281,
   "metadata": {},
   "outputs": [],
   "source": [
    "# Standardizing Data\n",
    "\n",
    "# finding the parameters ( mean, variance from the training set )\n",
    "\n",
    "std_scaler = StandardScaler().fit(X_train) "
   ]
  },
  {
   "cell_type": "code",
   "execution_count": 282,
   "metadata": {},
   "outputs": [],
   "source": [
    "# transforming the training set\n",
    "\n",
    "X_train_scaled = std_scaler.transform(X_train)"
   ]
  },
  {
   "cell_type": "code",
   "execution_count": 283,
   "metadata": {},
   "outputs": [
    {
     "data": {
      "text/plain": [
       "(7482, 55)"
      ]
     },
     "execution_count": 283,
     "metadata": {},
     "output_type": "execute_result"
    }
   ],
   "source": [
    "X_train_scaled.shape"
   ]
  },
  {
   "cell_type": "code",
   "execution_count": 284,
   "metadata": {},
   "outputs": [],
   "source": [
    "# use parameters from the training set to transform the test set\n",
    "\n",
    "X_test_scaled = std_scaler.transform(X_test)"
   ]
  },
  {
   "cell_type": "code",
   "execution_count": 285,
   "metadata": {},
   "outputs": [
    {
     "name": "stdout",
     "output_type": "stream",
     "text": [
      "[[-0.11021627 -1.27291744 -0.67143823 ... -0.42500069  1.00907882\n",
      "   0.16015559]\n",
      " [-0.42794064  0.74729478 -0.72925469 ... -0.42500069  0.01801453\n",
      "  -1.6833584 ]\n",
      " [-0.5223013   0.26592193  0.48489091 ... -0.42500069 -0.97304975\n",
      "   0.16015559]\n",
      " ...\n",
      " [-0.81132612 -1.17224873 -0.90270406 ... -0.42500069  1.00907882\n",
      "  -1.6833584 ]\n",
      " [ 2.25575772  0.98537142 -0.78707115 ... -0.42500069  1.00907882\n",
      "   0.16015559]\n",
      " [ 1.18923585  0.68583346 -0.55580532 ...  1.78399907  0.01801453\n",
      "   0.16015559]]\n",
      "--------\n",
      "[[-0.40967729  1.58428551 -0.61362178 ... -0.42500069 -0.97304975\n",
      "   0.16015559]\n",
      " [-0.7597249  -0.93947257 -0.64253    ...  0.67949919 -0.97304975\n",
      "   0.16015559]\n",
      " [ 0.57248529 -1.23371005 -0.90270406 ... -0.42500069 -0.97304975\n",
      "   0.16015559]\n",
      " ...\n",
      " [-0.79857077 -1.05867274 -0.58471355 ... -0.42500069  0.01801453\n",
      "   0.16015559]\n",
      " [-0.42547654 -0.97370317 -0.81597938 ...  0.67949919  0.01801453\n",
      "   0.16015559]\n",
      " [-0.49881985 -0.95695203  0.71615674 ... -0.42500069  0.01801453\n",
      "   2.00366957]]\n"
     ]
    }
   ],
   "source": [
    "print(X_train_scaled)\n",
    "print(\"--------\")\n",
    "print(X_test_scaled)"
   ]
  },
  {
   "cell_type": "code",
   "execution_count": 286,
   "metadata": {},
   "outputs": [
    {
     "data": {
      "text/plain": [
       "LinearRegression()"
      ]
     },
     "execution_count": 286,
     "metadata": {},
     "output_type": "execute_result"
    }
   ],
   "source": [
    "# fitting model to Linear Regression, \"training\" the algorithm \n",
    "\n",
    "model = LinearRegression()\n",
    "model.fit(X_train_scaled, y_train)"
   ]
  },
  {
   "cell_type": "code",
   "execution_count": 287,
   "metadata": {},
   "outputs": [
    {
     "data": {
      "text/plain": [
       "array([-1.23456850e-01, -4.03610691e+00,  1.71032341e+02,  3.60905212e+00,\n",
       "        1.80233529e+00,  1.16039769e+15, -5.53700560e-01, -8.47053862e+14,\n",
       "       -1.99002572e+15, -8.69796670e+14, -6.76250003e+14, -1.79199493e+15,\n",
       "        1.24140400e+15,  1.24140400e+15, -7.83833692e+14, -9.56510536e+14,\n",
       "       -7.56378220e+14,  1.21763899e+15,  1.69688940e+15,  1.53122198e+15,\n",
       "       -4.65468954e+14, -4.65468954e+14,  6.50884834e+14,  1.05265055e+15,\n",
       "       -2.58165118e+15, -1.03362952e+15, -1.23073408e+15, -1.61991857e+15,\n",
       "       -2.04641553e+15, -2.50730801e+15, -2.89356177e+15,  7.76642093e+14,\n",
       "        1.23800120e+15,  1.21455822e+15, -1.21368679e+15, -7.57937144e+14,\n",
       "       -1.22016301e+15, -1.28977219e+15, -4.71541407e+14, -4.71541407e+14,\n",
       "       -7.15418704e+13, -6.66326798e+13, -5.93475883e+13, -5.29380261e+13,\n",
       "       -8.32826780e+13, -2.28088744e+13, -2.32729463e+13, -3.73407100e+13,\n",
       "       -6.56559493e+13, -6.76087662e+13,  1.11177528e+15, -1.04534574e+15,\n",
       "       -1.16039769e+15, -6.64295381e+13, -4.37500000e-01])"
      ]
     },
     "execution_count": 287,
     "metadata": {},
     "output_type": "execute_result"
    }
   ],
   "source": [
    "model.coef_"
   ]
  },
  {
   "cell_type": "code",
   "execution_count": 288,
   "metadata": {},
   "outputs": [
    {
     "data": {
      "text/plain": [
       "433.64446861331487"
      ]
     },
     "execution_count": 288,
     "metadata": {},
     "output_type": "execute_result"
    }
   ],
   "source": [
    "model.intercept_ "
   ]
  },
  {
   "cell_type": "code",
   "execution_count": 289,
   "metadata": {},
   "outputs": [],
   "source": [
    "# applying prediction via model\n",
    "\n",
    "y_pred_test = model.predict(X_test_scaled)   \n",
    "y_pred_train = model.predict(X_train_scaled)"
   ]
  },
  {
   "cell_type": "code",
   "execution_count": 290,
   "metadata": {},
   "outputs": [
    {
     "data": {
      "text/plain": [
       "array([469.72380749, 399.98161999, 156.72380749, ..., 571.3682545 ,\n",
       "       -25.12368886, 460.56171714])"
      ]
     },
     "execution_count": 290,
     "metadata": {},
     "output_type": "execute_result"
    }
   ],
   "source": [
    "y_pred_test"
   ]
  },
  {
   "cell_type": "code",
   "execution_count": 292,
   "metadata": {},
   "outputs": [
    {
     "data": {
      "text/plain": [
       "array([470.57311172, 450.67479187, 377.47380749, ..., 329.37964909,\n",
       "       -43.30188828, 551.76302989])"
      ]
     },
     "execution_count": 292,
     "metadata": {},
     "output_type": "execute_result"
    }
   ],
   "source": [
    "y_pred_train"
   ]
  },
  {
   "cell_type": "code",
   "execution_count": 293,
   "metadata": {},
   "outputs": [
    {
     "data": {
      "text/plain": [
       "4665     345\n",
       "4072     345\n",
       "4549     257\n",
       "4211     445\n",
       "3081     523\n",
       "        ... \n",
       "3488     404\n",
       "1667     554\n",
       "1516     350\n",
       "10215     27\n",
       "2931     320\n",
       "Name: total_claim_amount, Length: 3207, dtype: int64"
      ]
     },
     "execution_count": 293,
     "metadata": {},
     "output_type": "execute_result"
    }
   ],
   "source": [
    "y_test"
   ]
  },
  {
   "cell_type": "code",
   "execution_count": 294,
   "metadata": {},
   "outputs": [
    {
     "data": {
      "text/html": [
       "<div>\n",
       "<style scoped>\n",
       "    .dataframe tbody tr th:only-of-type {\n",
       "        vertical-align: middle;\n",
       "    }\n",
       "\n",
       "    .dataframe tbody tr th {\n",
       "        vertical-align: top;\n",
       "    }\n",
       "\n",
       "    .dataframe thead th {\n",
       "        text-align: right;\n",
       "    }\n",
       "</style>\n",
       "<table border=\"1\" class=\"dataframe\">\n",
       "  <thead>\n",
       "    <tr style=\"text-align: right;\">\n",
       "      <th></th>\n",
       "      <th>y_test</th>\n",
       "      <th>y_pred</th>\n",
       "    </tr>\n",
       "  </thead>\n",
       "  <tbody>\n",
       "    <tr>\n",
       "      <th>4665</th>\n",
       "      <td>345</td>\n",
       "      <td>469.723807</td>\n",
       "    </tr>\n",
       "    <tr>\n",
       "      <th>4072</th>\n",
       "      <td>345</td>\n",
       "      <td>399.981620</td>\n",
       "    </tr>\n",
       "    <tr>\n",
       "      <th>4549</th>\n",
       "      <td>257</td>\n",
       "      <td>156.723807</td>\n",
       "    </tr>\n",
       "    <tr>\n",
       "      <th>4211</th>\n",
       "      <td>445</td>\n",
       "      <td>380.280345</td>\n",
       "    </tr>\n",
       "    <tr>\n",
       "      <th>3081</th>\n",
       "      <td>523</td>\n",
       "      <td>427.473807</td>\n",
       "    </tr>\n",
       "    <tr>\n",
       "      <th>...</th>\n",
       "      <td>...</td>\n",
       "      <td>...</td>\n",
       "    </tr>\n",
       "    <tr>\n",
       "      <th>3488</th>\n",
       "      <td>404</td>\n",
       "      <td>359.223807</td>\n",
       "    </tr>\n",
       "    <tr>\n",
       "      <th>1667</th>\n",
       "      <td>554</td>\n",
       "      <td>568.198076</td>\n",
       "    </tr>\n",
       "    <tr>\n",
       "      <th>1516</th>\n",
       "      <td>350</td>\n",
       "      <td>571.368255</td>\n",
       "    </tr>\n",
       "    <tr>\n",
       "      <th>10215</th>\n",
       "      <td>27</td>\n",
       "      <td>-25.123689</td>\n",
       "    </tr>\n",
       "    <tr>\n",
       "      <th>2931</th>\n",
       "      <td>320</td>\n",
       "      <td>460.561717</td>\n",
       "    </tr>\n",
       "  </tbody>\n",
       "</table>\n",
       "<p>3207 rows × 2 columns</p>\n",
       "</div>"
      ],
      "text/plain": [
       "       y_test      y_pred\n",
       "4665      345  469.723807\n",
       "4072      345  399.981620\n",
       "4549      257  156.723807\n",
       "4211      445  380.280345\n",
       "3081      523  427.473807\n",
       "...       ...         ...\n",
       "3488      404  359.223807\n",
       "1667      554  568.198076\n",
       "1516      350  571.368255\n",
       "10215      27  -25.123689\n",
       "2931      320  460.561717\n",
       "\n",
       "[3207 rows x 2 columns]"
      ]
     },
     "execution_count": 294,
     "metadata": {},
     "output_type": "execute_result"
    }
   ],
   "source": [
    "# comparing predictesd values with test data \n",
    "\n",
    "result = pd.DataFrame({\"y_test\": y_test,\"y_pred\": y_pred_test})\n",
    "result"
   ]
  },
  {
   "cell_type": "code",
   "execution_count": 295,
   "metadata": {},
   "outputs": [
    {
     "data": {
      "text/plain": [
       "[<matplotlib.lines.Line2D at 0x7f9b49eee580>]"
      ]
     },
     "execution_count": 295,
     "metadata": {},
     "output_type": "execute_result"
    },
    {
     "data": {
      "image/png": "[encoded data removed]",
      "text/plain": [
       "<Figure size 1008x288 with 3 Axes>"
      ]
     },
     "metadata": {
      "needs_background": "light"
     },
     "output_type": "display_data"
    }
   ],
   "source": [
    "# Graphically evaluating the model: \n",
    "# assumption, linearity of predictors, normality of errors, constant variance of errors (here dispersion from zero as baseline, variance of a variable)\n",
    "\n",
    "\n",
    "fig, ax = plt.subplots(1,3,figsize = (14,4))\n",
    "ax[0].plot(y_pred_test, y_test, 'o')\n",
    "ax[0].set_xlabel(\"y_test\")\n",
    "ax[0].set_ylabel(\"y_pred\")\n",
    "ax[0].set_title(\"Test Set -Predicted vs real\")\n",
    "\n",
    "# Get a histogram of the residuals ie: y - y_pred.  Homoscdasticity\n",
    "# It resembles a normal distribution?\n",
    "ax[1].hist(y_test - y_pred_test)\n",
    "ax[1].set_xlabel(\"Test y-y_pred\")\n",
    "ax[1].set_title(\"Test Set Residual histogram\")\n",
    "\n",
    "ax[2].plot(y_pred_test, y_test - y_pred_test, \"o\")\n",
    "ax[2].set_xlabel(\"predicted\")\n",
    "ax[2].set_ylabel(\"residuals\")\n",
    "ax[2].set_title(\"Residuals by Predicted\")\n",
    "ax[2].plot(y_pred_test,np.zeros(len(y_pred_test)),linestyle='dashed')"
   ]
  },
  {
   "cell_type": "code",
   "execution_count": 296,
   "metadata": {},
   "outputs": [
    {
     "name": "stdout",
     "output_type": "stream",
     "text": [
      "19368.47969779914\n"
     ]
    }
   ],
   "source": [
    "# checking for MSE \n",
    "\n",
    "print(mse(y_test,y_pred_test))\n"
   ]
  },
  {
   "cell_type": "code",
   "execution_count": 297,
   "metadata": {},
   "outputs": [
    {
     "name": "stdout",
     "output_type": "stream",
     "text": [
      "139.17068548296777\n"
     ]
    }
   ],
   "source": [
    "# checking for RMSE \n",
    "\n",
    "print(math.sqrt(mse(y_test,y_pred_test)))"
   ]
  },
  {
   "cell_type": "code",
   "execution_count": 298,
   "metadata": {},
   "outputs": [
    {
     "name": "stdout",
     "output_type": "stream",
     "text": [
      "96.5835760149478\n"
     ]
    }
   ],
   "source": [
    "# checking for MAE\n",
    "\n",
    "print(mae(y_test,y_pred_test))"
   ]
  },
  {
   "cell_type": "code",
   "execution_count": 299,
   "metadata": {},
   "outputs": [
    {
     "data": {
      "text/plain": [
       "0.7678058619230798"
      ]
     },
     "execution_count": 299,
     "metadata": {},
     "output_type": "execute_result"
    }
   ],
   "source": [
    "# checking for R2 \n",
    "\n",
    "R2 = r2_score(y_test,y_pred_test)\n",
    "R2"
   ]
  },
  {
   "cell_type": "code",
   "execution_count": 248,
   "metadata": {},
   "outputs": [
    {
     "data": {
      "text/plain": [
       "0.7651688681347255"
      ]
     },
     "execution_count": 248,
     "metadata": {},
     "output_type": "execute_result"
    }
   ],
   "source": [
    "# checking for R2-adjusted\n",
    "\n",
    "Adj_R2= 1 - (1-R2)*(len(y_test)-1)/(len(y_test)-X_test.shape[1]-1)\n",
    "Adj_R2"
   ]
  },
  {
   "cell_type": "code",
   "execution_count": 300,
   "metadata": {},
   "outputs": [
    {
     "data": {
      "text/html": [
       "<div>\n",
       "<style scoped>\n",
       "    .dataframe tbody tr th:only-of-type {\n",
       "        vertical-align: middle;\n",
       "    }\n",
       "\n",
       "    .dataframe tbody tr th {\n",
       "        vertical-align: top;\n",
       "    }\n",
       "\n",
       "    .dataframe thead th {\n",
       "        text-align: right;\n",
       "    }\n",
       "</style>\n",
       "<table border=\"1\" class=\"dataframe\">\n",
       "  <thead>\n",
       "    <tr style=\"text-align: right;\">\n",
       "      <th></th>\n",
       "      <th>Attribute</th>\n",
       "      <th>Importance</th>\n",
       "    </tr>\n",
       "  </thead>\n",
       "  <tbody>\n",
       "    <tr>\n",
       "      <th>30</th>\n",
       "      <td>policy_personal l3</td>\n",
       "      <td>2.893562e+15</td>\n",
       "    </tr>\n",
       "    <tr>\n",
       "      <th>24</th>\n",
       "      <td>policy_type_special auto</td>\n",
       "      <td>2.581651e+15</td>\n",
       "    </tr>\n",
       "    <tr>\n",
       "      <th>29</th>\n",
       "      <td>policy_personal l2</td>\n",
       "      <td>2.507308e+15</td>\n",
       "    </tr>\n",
       "    <tr>\n",
       "      <th>28</th>\n",
       "      <td>policy_personal l1</td>\n",
       "      <td>2.046416e+15</td>\n",
       "    </tr>\n",
       "    <tr>\n",
       "      <th>8</th>\n",
       "      <td>employment_status_employed</td>\n",
       "      <td>1.990026e+15</td>\n",
       "    </tr>\n",
       "    <tr>\n",
       "      <th>...</th>\n",
       "      <td>...</td>\n",
       "      <td>...</td>\n",
       "    </tr>\n",
       "    <tr>\n",
       "      <th>3</th>\n",
       "      <td>months_since_last_claim</td>\n",
       "      <td>3.609052e+00</td>\n",
       "    </tr>\n",
       "    <tr>\n",
       "      <th>4</th>\n",
       "      <td>months_since_policy_inception</td>\n",
       "      <td>1.802335e+00</td>\n",
       "    </tr>\n",
       "    <tr>\n",
       "      <th>6</th>\n",
       "      <td>number_of_policies</td>\n",
       "      <td>5.537006e-01</td>\n",
       "    </tr>\n",
       "    <tr>\n",
       "      <th>54</th>\n",
       "      <td>vehicle_size</td>\n",
       "      <td>4.375000e-01</td>\n",
       "    </tr>\n",
       "    <tr>\n",
       "      <th>0</th>\n",
       "      <td>customer_lifetime_value</td>\n",
       "      <td>1.234569e-01</td>\n",
       "    </tr>\n",
       "  </tbody>\n",
       "</table>\n",
       "<p>55 rows × 2 columns</p>\n",
       "</div>"
      ],
      "text/plain": [
       "                        Attribute    Importance\n",
       "30             policy_personal l3  2.893562e+15\n",
       "24       policy_type_special auto  2.581651e+15\n",
       "29             policy_personal l2  2.507308e+15\n",
       "28             policy_personal l1  2.046416e+15\n",
       "8      employment_status_employed  1.990026e+15\n",
       "..                            ...           ...\n",
       "3         months_since_last_claim  3.609052e+00\n",
       "4   months_since_policy_inception  1.802335e+00\n",
       "6              number_of_policies  5.537006e-01\n",
       "54                   vehicle_size  4.375000e-01\n",
       "0         customer_lifetime_value  1.234569e-01\n",
       "\n",
       "[55 rows x 2 columns]"
      ]
     },
     "execution_count": 300,
     "metadata": {},
     "output_type": "execute_result"
    }
   ],
   "source": [
    "# checking for feature importance by coefficient\n",
    "\n",
    "features_importances = pd.DataFrame(data={\n",
    "    'Attribute': X_train.columns,\n",
    "    'Importance': abs(model.coef_)\n",
    "})\n",
    "features_importances = features_importances.sort_values(by = 'Importance', ascending = False)\n",
    "\n",
    "features_importances"
   ]
  },
  {
   "cell_type": "code",
   "execution_count": 249,
   "metadata": {},
   "outputs": [
    {
     "data": {
      "image/png": "[encoded data removed]",
      "text/plain": [
       "<Figure size 432x288 with 1 Axes>"
      ]
     },
     "metadata": {
      "needs_background": "light"
     },
     "output_type": "display_data"
    }
   ],
   "source": [
    "# Plotting feature importance by coefficient\n",
    "\n",
    "plt.bar(x=features_importances[\"Attribute\"], height = features_importances[\"Importance\"], color = '#087E8B')\n",
    "plt.title('Feature importances obtained from coefficients', size = 20)\n",
    "plt.xticks(rotation='vertical')\n",
    "plt.show()"
   ]
  },
  {
   "cell_type": "code",
   "execution_count": 306,
   "metadata": {},
   "outputs": [
    {
     "data": {
      "text/plain": [
       "Index(['customer_lifetime_value', 'income', 'monthly_premium_auto',\n",
       "       'months_since_last_claim', 'months_since_policy_inception',\n",
       "       'number_of_open_complaints', 'number_of_policies',\n",
       "       'employment_status_disabled', 'employment_status_employed',\n",
       "       'employment_status_medical leave', 'employment_status_retired',\n",
       "       'employment_status_unemployed', 'gender_f', 'gender_m',\n",
       "       'location_code_rural', 'location_code_suburban', 'location_code_urban',\n",
       "       'marital_status_divorced', 'marital_status_married',\n",
       "       'marital_status_single', 'month_feb', 'month_jan',\n",
       "       'policy_type_corporate auto', 'policy_type_personal auto',\n",
       "       'policy_type_special auto', 'policy_corporate l1',\n",
       "       'policy_corporate l2', 'policy_corporate l3', 'policy_personal l1',\n",
       "       'policy_personal l2', 'policy_personal l3', 'policy_special l1',\n",
       "       'policy_special l2', 'policy_special l3', 'region_central',\n",
       "       'region_east', 'region_north west', 'region_west region', 'response_no',\n",
       "       'response_yes', 'sales_channel_agent', 'sales_channel_branch',\n",
       "       'sales_channel_call center', 'sales_channel_web',\n",
       "       'vehicle_class_four-door car', 'vehicle_class_luxury car',\n",
       "       'vehicle_class_luxury suv', 'vehicle_class_sports car',\n",
       "       'vehicle_class_suv', 'vehicle_class_two-door car', 'coverage',\n",
       "       'education', 'number_of_open_complaints', 'renew_offer_type',\n",
       "       'vehicle_size'],\n",
       "      dtype='object')"
      ]
     },
     "execution_count": 306,
     "metadata": {},
     "output_type": "execute_result"
    }
   ],
   "source": [
    "X.columns"
   ]
  },
  {
   "cell_type": "code",
   "execution_count": 314,
   "metadata": {},
   "outputs": [],
   "source": [
    "# detecting outliers with numpy and interquartile range\n",
    "\n",
    "Q1 = np.percentile(X, 25, interpolation = 'midpoint')\n",
    " \n",
    "Q3 = np.percentile(X, 75, interpolation = 'midpoint')\n",
    "\n",
    "IQR = Q3 - Q1"
   ]
  },
  {
   "cell_type": "code",
   "execution_count": 322,
   "metadata": {},
   "outputs": [
    {
     "data": {
      "text/plain": [
       "(array([    0,     0,     0, ..., 10688, 10688, 10688]),\n",
       " array([ 0,  1,  2, ..., 50, 51, 53]))"
      ]
     },
     "execution_count": 322,
     "metadata": {},
     "output_type": "execute_result"
    }
   ],
   "source": [
    "upper = X >= (Q3+1.5*IQR)\n",
    "\n",
    "np.where(upper)"
   ]
  },
  {
   "cell_type": "code",
   "execution_count": 340,
   "metadata": {},
   "outputs": [],
   "source": [
    "upper_2 = np.where(upper)[0]"
   ]
  },
  {
   "cell_type": "code",
   "execution_count": 341,
   "metadata": {},
   "outputs": [],
   "source": [
    "upper_1 = np.where(upper)[1]"
   ]
  },
  {
   "cell_type": "code",
   "execution_count": 335,
   "metadata": {},
   "outputs": [
    {
     "data": {
      "text/plain": [
       "(array([], dtype=int64), array([], dtype=int64))"
      ]
     },
     "execution_count": 335,
     "metadata": {},
     "output_type": "execute_result"
    }
   ],
   "source": [
    "lower = X <= (Q1-1.5*IQR)\n",
    "\n",
    "np.where(lower)"
   ]
  },
  {
   "cell_type": "code",
   "execution_count": 342,
   "metadata": {},
   "outputs": [],
   "source": [
    "OL = pd.DataFrame({'Outlier1': upper_1, 'Outlier2': upper_2})"
   ]
  },
  {
   "cell_type": "code",
   "execution_count": 343,
   "metadata": {},
   "outputs": [
    {
     "data": {
      "text/html": [
       "<div>\n",
       "<style scoped>\n",
       "    .dataframe tbody tr th:only-of-type {\n",
       "        vertical-align: middle;\n",
       "    }\n",
       "\n",
       "    .dataframe tbody tr th {\n",
       "        vertical-align: top;\n",
       "    }\n",
       "\n",
       "    .dataframe thead th {\n",
       "        text-align: right;\n",
       "    }\n",
       "</style>\n",
       "<table border=\"1\" class=\"dataframe\">\n",
       "  <thead>\n",
       "    <tr style=\"text-align: right;\">\n",
       "      <th></th>\n",
       "      <th>Outlier1</th>\n",
       "      <th>Outlier2</th>\n",
       "    </tr>\n",
       "  </thead>\n",
       "  <tbody>\n",
       "    <tr>\n",
       "      <th>0</th>\n",
       "      <td>0</td>\n",
       "      <td>0</td>\n",
       "    </tr>\n",
       "    <tr>\n",
       "      <th>1</th>\n",
       "      <td>1</td>\n",
       "      <td>0</td>\n",
       "    </tr>\n",
       "    <tr>\n",
       "      <th>2</th>\n",
       "      <td>2</td>\n",
       "      <td>0</td>\n",
       "    </tr>\n",
       "    <tr>\n",
       "      <th>3</th>\n",
       "      <td>3</td>\n",
       "      <td>0</td>\n",
       "    </tr>\n",
       "    <tr>\n",
       "      <th>4</th>\n",
       "      <td>4</td>\n",
       "      <td>0</td>\n",
       "    </tr>\n",
       "    <tr>\n",
       "      <th>...</th>\n",
       "      <td>...</td>\n",
       "      <td>...</td>\n",
       "    </tr>\n",
       "    <tr>\n",
       "      <th>60967</th>\n",
       "      <td>3</td>\n",
       "      <td>10688</td>\n",
       "    </tr>\n",
       "    <tr>\n",
       "      <th>60968</th>\n",
       "      <td>6</td>\n",
       "      <td>10688</td>\n",
       "    </tr>\n",
       "    <tr>\n",
       "      <th>60969</th>\n",
       "      <td>50</td>\n",
       "      <td>10688</td>\n",
       "    </tr>\n",
       "    <tr>\n",
       "      <th>60970</th>\n",
       "      <td>51</td>\n",
       "      <td>10688</td>\n",
       "    </tr>\n",
       "    <tr>\n",
       "      <th>60971</th>\n",
       "      <td>53</td>\n",
       "      <td>10688</td>\n",
       "    </tr>\n",
       "  </tbody>\n",
       "</table>\n",
       "<p>60972 rows × 2 columns</p>\n",
       "</div>"
      ],
      "text/plain": [
       "       Outlier1  Outlier2\n",
       "0             0         0\n",
       "1             1         0\n",
       "2             2         0\n",
       "3             3         0\n",
       "4             4         0\n",
       "...         ...       ...\n",
       "60967         3     10688\n",
       "60968         6     10688\n",
       "60969        50     10688\n",
       "60970        51     10688\n",
       "60971        53     10688\n",
       "\n",
       "[60972 rows x 2 columns]"
      ]
     },
     "execution_count": 343,
     "metadata": {},
     "output_type": "execute_result"
    }
   ],
   "source": [
    "OL"
   ]
  }
 ],
 "metadata": {
  "kernelspec": {
   "display_name": "Python 3.8.8 ('base')",
   "language": "python",
   "name": "python3"
  },
  "language_info": {
   "codemirror_mode": {
    "name": "ipython",
    "version": 3
   },
   "file_extension": ".py",
   "mimetype": "text/x-python",
   "name": "python",
   "nbconvert_exporter": "python",
   "pygments_lexer": "ipython3",
   "version": "3.8.8"
  },
  "vscode": {
   "interpreter": {
    "hash": "40d3a090f54c6569ab1632332b64b2c03c39dcf918b08424e98f38b5ae0af88f"
   }
  }
 },
 "nbformat": 4,
 "nbformat_minor": 2
}
