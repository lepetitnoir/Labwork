{
 "cells": [
  {
   "cell_type": "markdown",
   "id": "3df95bca",
   "metadata": {},
   "source": [
    "# Instructions\n",
    "\n",
    "- It is assumed that the mean systolic blood pressure is μ = 120 mm Hg. In the Honolulu       Heart Study, a sample of n = 100 people had an average systolic blood pressure of 130.1     mm Hg with a standard deviation of 21.21 mm Hg. Is the group significantly different       (with respect to systolic blood pressure!) from the regular population?\n",
    "- Set up the hypothesis test.\n",
    "- Write down all the steps followed for setting up the test.\n",
    "  Calculate the test statistic by hand and also code it in Python. It should be 4.76190.     What decision can you make based on this calculated value?\n",
    "\n",
    "\n",
    "# Optional\n",
    "\n",
    "- In a packing plant, a machine packs cartons with jars. It is supposed that a new machine   will pack faster on the average than the machine currently used. \n",
    "\n",
    "- To test that hypothesis, the times it takes each machine to pack ten cartons are           recorded. The results, in seconds, are shown in the tables in the file Data/machine.txt. \n",
    "\n",
    "- Assume that there is sufficient evidence to conduct the t test, does the data provide       sufficient evidence to show if one machine is better than the other.\n",
    "\n",
    "- Hint: use two sample t-test\n",
    "\n",
    "- t = (sample_mean(x1) - sample_mean(x2)) / sqrt(square(s1)/n1 + square(s2)/n2 ) "
   ]
  },
  {
   "cell_type": "markdown",
   "id": "93599d1c",
   "metadata": {},
   "source": [
    "# Basic"
   ]
  },
  {
   "cell_type": "code",
   "execution_count": 9,
   "id": "b528821a",
   "metadata": {},
   "outputs": [],
   "source": [
    "# Given data, null-hypotheses (H0), alternative hypotheses (Ha)\n",
    "\n",
    "mean = 120\n",
    "    \n",
    "n = 100\n",
    "\n",
    "n_mean = 130.1\n",
    "\n",
    "n_std = 21.21\n",
    "\n",
    "H0 = 120\n",
    "\n",
    "Ha =! 120"
   ]
  },
  {
   "cell_type": "code",
   "execution_count": 11,
   "id": "a9af9531",
   "metadata": {},
   "outputs": [],
   "source": [
    "# Importing libraries\n",
    "\n",
    "import math as math\n",
    "import numpy as np"
   ]
  },
  {
   "cell_type": "code",
   "execution_count": 31,
   "id": "e6e4f06c",
   "metadata": {},
   "outputs": [
    {
     "data": {
      "text/plain": [
       "4.7619"
      ]
     },
     "execution_count": 31,
     "metadata": {},
     "output_type": "execute_result"
    }
   ],
   "source": [
    "# Calculating test statistic (t-score)\n",
    "\n",
    "t = round((n_mean-mean)/(n_std/(math.sqrt(100))), 5)\n",
    "\n",
    "t\n"
   ]
  },
  {
   "cell_type": "code",
   "execution_count": 33,
   "id": "89fa697f",
   "metadata": {},
   "outputs": [
    {
     "data": {
      "text/plain": [
       "True"
      ]
     },
     "execution_count": 33,
     "metadata": {},
     "output_type": "execute_result"
    }
   ],
   "source": [
    "# decision on whether to reject H0\n",
    "\n",
    "cofidence_level = 0.05/2\n",
    "\n",
    "df = 100\n",
    "\n",
    "t_c = 1.984\n",
    "\n",
    "H0_reject = t > t_c\n",
    "\n",
    "H0_reject\n",
    "\n",
    "# since t > t_c H0 needs to be rejected, \n",
    "# the group is significantly different from the regular population\n"
   ]
  },
  {
   "cell_type": "markdown",
   "id": "a436e544",
   "metadata": {},
   "source": [
    "# Optional"
   ]
  },
  {
   "cell_type": "code",
   "execution_count": 49,
   "id": "d923cfaf",
   "metadata": {},
   "outputs": [],
   "source": [
    "# loading data frame (txt-file)\n",
    "\n",
    "import pandas as pd\n",
    "\n",
    "MPC = pd.read_table(\"Data_Machine.txt\")"
   ]
  },
  {
   "cell_type": "code",
   "execution_count": 57,
   "id": "38957d23",
   "metadata": {},
   "outputs": [
    {
     "name": "stdout",
     "output_type": "stream",
     "text": [
      "<class 'pandas.core.frame.DataFrame'>\n",
      "RangeIndex: 10 entries, 0 to 9\n",
      "Data columns (total 2 columns):\n",
      " #   Column         Non-Null Count  Dtype  \n",
      "---  ------         --------------  -----  \n",
      " 0   New Machine    10 non-null     float64\n",
      " 1     Old Machine  10 non-null     float64\n",
      "dtypes: float64(2)\n",
      "memory usage: 288.0 bytes\n"
     ]
    }
   ],
   "source": [
    "MPC.info()"
   ]
  },
  {
   "cell_type": "code",
   "execution_count": 58,
   "id": "be4f972a",
   "metadata": {},
   "outputs": [],
   "source": [
    "# Calculate sample mean \n",
    "\n",
    "mean_NM = (sum(MPC[\"New Machine\"])/10)\n",
    "\n",
    "mean_OM = (sum(MPC[\"  Old Machine\"])/10)"
   ]
  },
  {
   "cell_type": "code",
   "execution_count": 60,
   "id": "f06e17ac",
   "metadata": {},
   "outputs": [
    {
     "data": {
      "text/plain": [
       "42.14"
      ]
     },
     "execution_count": 60,
     "metadata": {},
     "output_type": "execute_result"
    }
   ],
   "source": [
    "mean_NM"
   ]
  },
  {
   "cell_type": "code",
   "execution_count": 67,
   "id": "01eab4e5",
   "metadata": {},
   "outputs": [
    {
     "data": {
      "text/plain": [
       "0.6483826030978941"
      ]
     },
     "execution_count": 67,
     "metadata": {},
     "output_type": "execute_result"
    }
   ],
   "source": []
  },
  {
   "cell_type": "code",
   "execution_count": 62,
   "id": "36fc3bc6",
   "metadata": {},
   "outputs": [
    {
     "data": {
      "text/plain": [
       "43.23"
      ]
     },
     "execution_count": 62,
     "metadata": {},
     "output_type": "execute_result"
    }
   ],
   "source": [
    "round(mean_OM, 2)"
   ]
  },
  {
   "cell_type": "code",
   "execution_count": null,
   "id": "9eb2af3b",
   "metadata": {},
   "outputs": [],
   "source": [
    "# null-hypotheses (H0), alternative hypotheses (Ha)\n",
    "\n",
    "H0 = T_NM = T_OM\n",
    "\n",
    "Ha = T_NM != T_OM"
   ]
  },
  {
   "cell_type": "code",
   "execution_count": 64,
   "id": "a56d7839",
   "metadata": {},
   "outputs": [],
   "source": [
    "import numpy as np"
   ]
  },
  {
   "cell_type": "code",
   "execution_count": 69,
   "id": "638c4687",
   "metadata": {},
   "outputs": [],
   "source": [
    "# conducting t-test\n",
    "\n",
    "t = (42.14 - 43.23) / math.sqrt((np.std(MPC[\"New Machine\"])**2)/10) + ((np.std(MPC[\"  Old Machine\"])**2)/10)"
   ]
  },
  {
   "cell_type": "code",
   "execution_count": 71,
   "id": "05b842be",
   "metadata": {},
   "outputs": [
    {
     "data": {
      "text/plain": [
       "-5.27"
      ]
     },
     "execution_count": 71,
     "metadata": {},
     "output_type": "execute_result"
    }
   ],
   "source": [
    "round(t, 2)"
   ]
  },
  {
   "cell_type": "code",
   "execution_count": 72,
   "id": "eb6e41ee",
   "metadata": {},
   "outputs": [
    {
     "data": {
      "text/plain": [
       "True"
      ]
     },
     "execution_count": 72,
     "metadata": {},
     "output_type": "execute_result"
    }
   ],
   "source": [
    "# decision on whether to reject H0\n",
    "\n",
    "cofidence_level = 0.05\n",
    "\n",
    "df = 10\n",
    "\n",
    "t = -5.27\n",
    "\n",
    "t_c = -1.812\n",
    "\n",
    "H0_reject = t < t_c\n",
    "\n",
    "H0_reject\n",
    "\n",
    "# since t < t_c H0 needs to be rejected, \n",
    "# one machine is significantly faster than the other\n"
   ]
  },
  {
   "cell_type": "code",
   "execution_count": null,
   "id": "c2c5b480",
   "metadata": {},
   "outputs": [],
   "source": []
  }
 ],
 "metadata": {
  "kernelspec": {
   "display_name": "Python 3 (ipykernel)",
   "language": "python",
   "name": "python3"
  },
  "language_info": {
   "codemirror_mode": {
    "name": "ipython",
    "version": 3
   },
   "file_extension": ".py",
   "mimetype": "text/x-python",
   "name": "python",
   "nbconvert_exporter": "python",
   "pygments_lexer": "ipython3",
   "version": "3.9.12"
  }
 },
 "nbformat": 4,
 "nbformat_minor": 5
}
