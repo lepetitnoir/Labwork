{
 "cells": [
  {
   "cell_type": "code",
   "execution_count": 1,
   "id": "68642294",
   "metadata": {},
   "outputs": [],
   "source": [
    "questions = [\n",
    "    'Given the choice of anyone in the world, whom would you want as a dinner guest?',\n",
    "    'Would you like to be famous? In what way?',\n",
    "    'Before making a telephone call, do you ever rehearse what you are going to say?',\n",
    "    'What would constitute a perfect day for you?',\n",
    "    'When did you last sing to yourself? To someone else?',\n",
    "    '''If you were able to live to the age of 90 and retain either the mind or body of a\n",
    "    30-year-old for the last 60 years of your life, which would you want?''',\n",
    "    'Do you have a secret hunch about how you will die?',\n",
    "    'For what in your life do you feel most grateful?',\n",
    "    'If you could wake up tomorrow having gained any one quality or ability, what would it be?',\n",
    "    '''If a crystal ball could tell you the truth about yourself, your life, the future,\n",
    "    or anything else, what would you want to know?''',\n",
    "    'Share with your Ironhack fellow student an embarrassing moment in your life.',\n",
    "    'What, if anything, is too serious to be joked about?',\n",
    "    '''Your house, containing everything you own, catches fire. After saving your loved ones and pets,\n",
    "    you have time to safely make a final dash to save any one item. What would it be? Why?''',\n",
    "    'Where is the furthest you have traveled from your hometown?',\n",
    "    'If they made a movie about your life, who would you want to play you?',\n",
    "    '''You just got a free plane ticket to anywhere in the world but you have to leave immediately\n",
    "    and cannot pack anything. Where are you going to go?''',\n",
    "    'If you could ask your future self one question, what would it be?',\n",
    "    'What thing do you wish you knew how to do that you don’t understand?',\n",
    "    'What is the strangest thing you have ever eaten?',\n",
    "    'What is your favorite joke?',\n",
    "    'If you were president, what song would you want to play when you walked in the room?',\n",
    "    'If you didn’t need to sleep, what would you do with the extra time?',\n",
    "    '''You discover a beautiful island upon which you may build your own society.\n",
    "    You make the rules. What is the first rule you put into place?''',\n",
    "    'Who is your favorite movie villain?',\n",
    "    'What game makes you the most competitive?',\n",
    "    'What superpower would you give your best friend?',\n",
    "    'If you were one of Snow White’s dwarves, who would you be? You can make up your own name!',\n",
    "    'What is something that you can do better than anyone else that you know?',\n",
    "    'If you had your own talk show, who would your first three guests be?',\n",
    "    'Where would you visit if allowed: outer space or the ocean?'\n",
    "]"
   ]
  },
  {
   "cell_type": "code",
   "execution_count": 2,
   "id": "988f719e",
   "metadata": {},
   "outputs": [],
   "source": [
    "people = ['Aykut AvciAvci', 'Paul-Moritz Jost', 'Paul Kollhof', 'Elisabeth Oeljeklaus']"
   ]
  },
  {
   "cell_type": "code",
   "execution_count": 3,
   "id": "60a2b9bb",
   "metadata": {},
   "outputs": [],
   "source": [
    "from random import choice as ch"
   ]
  },
  {
   "cell_type": "code",
   "execution_count": 6,
   "id": "b29815d4",
   "metadata": {},
   "outputs": [],
   "source": [
    "def random_question():\n",
    "    return ch(people), ch(questions)"
   ]
  },
  {
   "cell_type": "code",
   "execution_count": 8,
   "id": "8e90ab76",
   "metadata": {},
   "outputs": [
    {
     "data": {
      "text/plain": [
       "('Elisabeth Oeljeklaus',\n",
       " 'If a crystal ball could tell you the truth about yourself, your life, the future,\\n    or anything else, what would you want to know?')"
      ]
     },
     "execution_count": 8,
     "metadata": {},
     "output_type": "execute_result"
    }
   ],
   "source": [
    "random_question()"
   ]
  },
  {
   "cell_type": "code",
   "execution_count": null,
   "id": "96014a8f",
   "metadata": {},
   "outputs": [],
   "source": []
  }
 ],
 "metadata": {
  "kernelspec": {
   "display_name": "Python 3 (ipykernel)",
   "language": "python",
   "name": "python3"
  },
  "language_info": {
   "codemirror_mode": {
    "name": "ipython",
    "version": 3
   },
   "file_extension": ".py",
   "mimetype": "text/x-python",
   "name": "python",
   "nbconvert_exporter": "python",
   "pygments_lexer": "ipython3",
   "version": "3.9.12"
  }
 },
 "nbformat": 4,
 "nbformat_minor": 5
}
